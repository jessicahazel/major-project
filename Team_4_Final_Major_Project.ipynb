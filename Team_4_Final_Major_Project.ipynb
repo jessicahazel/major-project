{
  "cells": [
    {
      "cell_type": "markdown",
      "metadata": {
        "id": "view-in-github",
        "colab_type": "text"
      },
      "source": [
        "<a href=\"https://colab.research.google.com/github/jessicahazel/major-project/blob/main/Team_4_Final_Major_Project.ipynb\" target=\"_parent\"><img src=\"https://colab.research.google.com/assets/colab-badge.svg\" alt=\"Open In Colab\"/></a>"
      ]
    },
    {
      "cell_type": "code",
      "execution_count": null,
      "metadata": {
        "id": "DBET2g2jquPh"
      },
      "outputs": [],
      "source": [
        "import warnings\n",
        "warnings.filterwarnings(\"ignore\")"
      ]
    },
    {
      "cell_type": "code",
      "execution_count": null,
      "metadata": {
        "id": "GGNziykvqxtb"
      },
      "outputs": [],
      "source": [
        "import numpy as np\n",
        "import pandas as pd\n",
        "import seaborn as sns\n",
        "import matplotlib.pyplot as plt\n",
        "from sklearn.preprocessing import LabelEncoder\n",
        "from sklearn.model_selection import train_test_split\n",
        "from sklearn.metrics import classification_report,confusion_matrix,accuracy_score,precision_recall_fscore_support\n",
        "from sklearn.metrics import f1_score,roc_auc_score\n",
        "from sklearn.ensemble import RandomForestClassifier,ExtraTreesClassifier\n",
        "from sklearn.tree import DecisionTreeClassifier\n",
        "from sklearn.ensemble import StackingClassifier\n",
        "import xgboost as xgb\n",
        "from xgboost import plot_importance"
      ]
    },
    {
      "cell_type": "code",
      "execution_count": null,
      "metadata": {
        "colab": {
          "base_uri": "https://localhost:8080/"
        },
        "id": "0NinZTpaynjA",
        "outputId": "ec0bdfdb-bab0-4135-e81d-a8482e0e68ba"
      },
      "outputs": [
        {
          "name": "stdout",
          "output_type": "stream",
          "text": [
            "Mounted at /content/drive\n"
          ]
        }
      ],
      "source": [
        "from google.colab import drive\n",
        "drive.mount('/content/drive')"
      ]
    },
    {
      "cell_type": "code",
      "execution_count": null,
      "metadata": {
        "id": "OKCLj9sut8Wv"
      },
      "outputs": [],
      "source": [
        "df = pd.read_csv('/content/drive/MyDrive/MachineLearningCSV/MachineLearningCVE/Wednesday-workingHours.pcap_ISCX.csv', skipinitialspace=True)"
      ]
    },
    {
      "cell_type": "code",
      "execution_count": null,
      "metadata": {
        "colab": {
          "base_uri": "https://localhost:8080/"
        },
        "id": "Ntgib251rdeX",
        "outputId": "5c6cbe34-893f-4c23-ac68-5e575f7e14b7"
      },
      "outputs": [
        {
          "data": {
            "text/plain": [
              "(692703, 79)"
            ]
          },
          "execution_count": 6,
          "metadata": {},
          "output_type": "execute_result"
        }
      ],
      "source": [
        "df.shape"
      ]
    },
    {
      "cell_type": "code",
      "execution_count": null,
      "metadata": {
        "colab": {
          "base_uri": "https://localhost:8080/",
          "height": 539
        },
        "id": "pY5nwutGODJv",
        "outputId": "2cb89c2d-2a7b-4e8b-c969-f8e91579d5bc"
      },
      "outputs": [
        {
          "data": {
            "text/html": [
              "\n",
              "  <div id=\"df-38948a6b-5b58-4c82-8cda-7de742016bee\">\n",
              "    <div class=\"colab-df-container\">\n",
              "      <div>\n",
              "<style scoped>\n",
              "    .dataframe tbody tr th:only-of-type {\n",
              "        vertical-align: middle;\n",
              "    }\n",
              "\n",
              "    .dataframe tbody tr th {\n",
              "        vertical-align: top;\n",
              "    }\n",
              "\n",
              "    .dataframe thead th {\n",
              "        text-align: right;\n",
              "    }\n",
              "</style>\n",
              "<table border=\"1\" class=\"dataframe\">\n",
              "  <thead>\n",
              "    <tr style=\"text-align: right;\">\n",
              "      <th></th>\n",
              "      <th>Destination Port</th>\n",
              "      <th>Flow Duration</th>\n",
              "      <th>Total Fwd Packets</th>\n",
              "      <th>Total Backward Packets</th>\n",
              "      <th>Total Length of Fwd Packets</th>\n",
              "      <th>Total Length of Bwd Packets</th>\n",
              "      <th>Fwd Packet Length Max</th>\n",
              "      <th>Fwd Packet Length Min</th>\n",
              "      <th>Fwd Packet Length Mean</th>\n",
              "      <th>Fwd Packet Length Std</th>\n",
              "      <th>...</th>\n",
              "      <th>min_seg_size_forward</th>\n",
              "      <th>Active Mean</th>\n",
              "      <th>Active Std</th>\n",
              "      <th>Active Max</th>\n",
              "      <th>Active Min</th>\n",
              "      <th>Idle Mean</th>\n",
              "      <th>Idle Std</th>\n",
              "      <th>Idle Max</th>\n",
              "      <th>Idle Min</th>\n",
              "      <th>Label</th>\n",
              "    </tr>\n",
              "  </thead>\n",
              "  <tbody>\n",
              "    <tr>\n",
              "      <th>0</th>\n",
              "      <td>80</td>\n",
              "      <td>38308</td>\n",
              "      <td>1</td>\n",
              "      <td>1</td>\n",
              "      <td>6</td>\n",
              "      <td>6</td>\n",
              "      <td>6</td>\n",
              "      <td>6</td>\n",
              "      <td>6.000000</td>\n",
              "      <td>0.000000</td>\n",
              "      <td>...</td>\n",
              "      <td>20</td>\n",
              "      <td>0.0</td>\n",
              "      <td>0.0</td>\n",
              "      <td>0</td>\n",
              "      <td>0</td>\n",
              "      <td>0.0</td>\n",
              "      <td>0.0</td>\n",
              "      <td>0</td>\n",
              "      <td>0</td>\n",
              "      <td>BENIGN</td>\n",
              "    </tr>\n",
              "    <tr>\n",
              "      <th>1</th>\n",
              "      <td>389</td>\n",
              "      <td>479</td>\n",
              "      <td>11</td>\n",
              "      <td>5</td>\n",
              "      <td>172</td>\n",
              "      <td>326</td>\n",
              "      <td>79</td>\n",
              "      <td>0</td>\n",
              "      <td>15.636364</td>\n",
              "      <td>31.449238</td>\n",
              "      <td>...</td>\n",
              "      <td>32</td>\n",
              "      <td>0.0</td>\n",
              "      <td>0.0</td>\n",
              "      <td>0</td>\n",
              "      <td>0</td>\n",
              "      <td>0.0</td>\n",
              "      <td>0.0</td>\n",
              "      <td>0</td>\n",
              "      <td>0</td>\n",
              "      <td>BENIGN</td>\n",
              "    </tr>\n",
              "    <tr>\n",
              "      <th>2</th>\n",
              "      <td>88</td>\n",
              "      <td>1095</td>\n",
              "      <td>10</td>\n",
              "      <td>6</td>\n",
              "      <td>3150</td>\n",
              "      <td>3150</td>\n",
              "      <td>1575</td>\n",
              "      <td>0</td>\n",
              "      <td>315.000000</td>\n",
              "      <td>632.561635</td>\n",
              "      <td>...</td>\n",
              "      <td>32</td>\n",
              "      <td>0.0</td>\n",
              "      <td>0.0</td>\n",
              "      <td>0</td>\n",
              "      <td>0</td>\n",
              "      <td>0.0</td>\n",
              "      <td>0.0</td>\n",
              "      <td>0</td>\n",
              "      <td>0</td>\n",
              "      <td>BENIGN</td>\n",
              "    </tr>\n",
              "    <tr>\n",
              "      <th>3</th>\n",
              "      <td>389</td>\n",
              "      <td>15206</td>\n",
              "      <td>17</td>\n",
              "      <td>12</td>\n",
              "      <td>3452</td>\n",
              "      <td>6660</td>\n",
              "      <td>1313</td>\n",
              "      <td>0</td>\n",
              "      <td>203.058823</td>\n",
              "      <td>425.778474</td>\n",
              "      <td>...</td>\n",
              "      <td>32</td>\n",
              "      <td>0.0</td>\n",
              "      <td>0.0</td>\n",
              "      <td>0</td>\n",
              "      <td>0</td>\n",
              "      <td>0.0</td>\n",
              "      <td>0.0</td>\n",
              "      <td>0</td>\n",
              "      <td>0</td>\n",
              "      <td>BENIGN</td>\n",
              "    </tr>\n",
              "    <tr>\n",
              "      <th>4</th>\n",
              "      <td>88</td>\n",
              "      <td>1092</td>\n",
              "      <td>9</td>\n",
              "      <td>6</td>\n",
              "      <td>3150</td>\n",
              "      <td>3152</td>\n",
              "      <td>1575</td>\n",
              "      <td>0</td>\n",
              "      <td>350.000000</td>\n",
              "      <td>694.509719</td>\n",
              "      <td>...</td>\n",
              "      <td>32</td>\n",
              "      <td>0.0</td>\n",
              "      <td>0.0</td>\n",
              "      <td>0</td>\n",
              "      <td>0</td>\n",
              "      <td>0.0</td>\n",
              "      <td>0.0</td>\n",
              "      <td>0</td>\n",
              "      <td>0</td>\n",
              "      <td>BENIGN</td>\n",
              "    </tr>\n",
              "    <tr>\n",
              "      <th>...</th>\n",
              "      <td>...</td>\n",
              "      <td>...</td>\n",
              "      <td>...</td>\n",
              "      <td>...</td>\n",
              "      <td>...</td>\n",
              "      <td>...</td>\n",
              "      <td>...</td>\n",
              "      <td>...</td>\n",
              "      <td>...</td>\n",
              "      <td>...</td>\n",
              "      <td>...</td>\n",
              "      <td>...</td>\n",
              "      <td>...</td>\n",
              "      <td>...</td>\n",
              "      <td>...</td>\n",
              "      <td>...</td>\n",
              "      <td>...</td>\n",
              "      <td>...</td>\n",
              "      <td>...</td>\n",
              "      <td>...</td>\n",
              "      <td>...</td>\n",
              "    </tr>\n",
              "    <tr>\n",
              "      <th>692698</th>\n",
              "      <td>53</td>\n",
              "      <td>32215</td>\n",
              "      <td>4</td>\n",
              "      <td>2</td>\n",
              "      <td>112</td>\n",
              "      <td>152</td>\n",
              "      <td>28</td>\n",
              "      <td>28</td>\n",
              "      <td>28.000000</td>\n",
              "      <td>0.000000</td>\n",
              "      <td>...</td>\n",
              "      <td>20</td>\n",
              "      <td>0.0</td>\n",
              "      <td>0.0</td>\n",
              "      <td>0</td>\n",
              "      <td>0</td>\n",
              "      <td>0.0</td>\n",
              "      <td>0.0</td>\n",
              "      <td>0</td>\n",
              "      <td>0</td>\n",
              "      <td>BENIGN</td>\n",
              "    </tr>\n",
              "    <tr>\n",
              "      <th>692699</th>\n",
              "      <td>53</td>\n",
              "      <td>324</td>\n",
              "      <td>2</td>\n",
              "      <td>2</td>\n",
              "      <td>84</td>\n",
              "      <td>362</td>\n",
              "      <td>42</td>\n",
              "      <td>42</td>\n",
              "      <td>42.000000</td>\n",
              "      <td>0.000000</td>\n",
              "      <td>...</td>\n",
              "      <td>20</td>\n",
              "      <td>0.0</td>\n",
              "      <td>0.0</td>\n",
              "      <td>0</td>\n",
              "      <td>0</td>\n",
              "      <td>0.0</td>\n",
              "      <td>0.0</td>\n",
              "      <td>0</td>\n",
              "      <td>0</td>\n",
              "      <td>BENIGN</td>\n",
              "    </tr>\n",
              "    <tr>\n",
              "      <th>692700</th>\n",
              "      <td>58030</td>\n",
              "      <td>82</td>\n",
              "      <td>2</td>\n",
              "      <td>1</td>\n",
              "      <td>31</td>\n",
              "      <td>6</td>\n",
              "      <td>31</td>\n",
              "      <td>0</td>\n",
              "      <td>15.500000</td>\n",
              "      <td>21.920310</td>\n",
              "      <td>...</td>\n",
              "      <td>32</td>\n",
              "      <td>0.0</td>\n",
              "      <td>0.0</td>\n",
              "      <td>0</td>\n",
              "      <td>0</td>\n",
              "      <td>0.0</td>\n",
              "      <td>0.0</td>\n",
              "      <td>0</td>\n",
              "      <td>0</td>\n",
              "      <td>BENIGN</td>\n",
              "    </tr>\n",
              "    <tr>\n",
              "      <th>692701</th>\n",
              "      <td>53</td>\n",
              "      <td>1048635</td>\n",
              "      <td>6</td>\n",
              "      <td>2</td>\n",
              "      <td>192</td>\n",
              "      <td>256</td>\n",
              "      <td>32</td>\n",
              "      <td>32</td>\n",
              "      <td>32.000000</td>\n",
              "      <td>0.000000</td>\n",
              "      <td>...</td>\n",
              "      <td>20</td>\n",
              "      <td>0.0</td>\n",
              "      <td>0.0</td>\n",
              "      <td>0</td>\n",
              "      <td>0</td>\n",
              "      <td>0.0</td>\n",
              "      <td>0.0</td>\n",
              "      <td>0</td>\n",
              "      <td>0</td>\n",
              "      <td>BENIGN</td>\n",
              "    </tr>\n",
              "    <tr>\n",
              "      <th>692702</th>\n",
              "      <td>53</td>\n",
              "      <td>94939</td>\n",
              "      <td>4</td>\n",
              "      <td>2</td>\n",
              "      <td>188</td>\n",
              "      <td>226</td>\n",
              "      <td>47</td>\n",
              "      <td>47</td>\n",
              "      <td>47.000000</td>\n",
              "      <td>0.000000</td>\n",
              "      <td>...</td>\n",
              "      <td>20</td>\n",
              "      <td>0.0</td>\n",
              "      <td>0.0</td>\n",
              "      <td>0</td>\n",
              "      <td>0</td>\n",
              "      <td>0.0</td>\n",
              "      <td>0.0</td>\n",
              "      <td>0</td>\n",
              "      <td>0</td>\n",
              "      <td>BENIGN</td>\n",
              "    </tr>\n",
              "  </tbody>\n",
              "</table>\n",
              "<p>692703 rows × 79 columns</p>\n",
              "</div>\n",
              "      <button class=\"colab-df-convert\" onclick=\"convertToInteractive('df-38948a6b-5b58-4c82-8cda-7de742016bee')\"\n",
              "              title=\"Convert this dataframe to an interactive table.\"\n",
              "              style=\"display:none;\">\n",
              "        \n",
              "  <svg xmlns=\"http://www.w3.org/2000/svg\" height=\"24px\"viewBox=\"0 0 24 24\"\n",
              "       width=\"24px\">\n",
              "    <path d=\"M0 0h24v24H0V0z\" fill=\"none\"/>\n",
              "    <path d=\"M18.56 5.44l.94 2.06.94-2.06 2.06-.94-2.06-.94-.94-2.06-.94 2.06-2.06.94zm-11 1L8.5 8.5l.94-2.06 2.06-.94-2.06-.94L8.5 2.5l-.94 2.06-2.06.94zm10 10l.94 2.06.94-2.06 2.06-.94-2.06-.94-.94-2.06-.94 2.06-2.06.94z\"/><path d=\"M17.41 7.96l-1.37-1.37c-.4-.4-.92-.59-1.43-.59-.52 0-1.04.2-1.43.59L10.3 9.45l-7.72 7.72c-.78.78-.78 2.05 0 2.83L4 21.41c.39.39.9.59 1.41.59.51 0 1.02-.2 1.41-.59l7.78-7.78 2.81-2.81c.8-.78.8-2.07 0-2.86zM5.41 20L4 18.59l7.72-7.72 1.47 1.35L5.41 20z\"/>\n",
              "  </svg>\n",
              "      </button>\n",
              "      \n",
              "  <style>\n",
              "    .colab-df-container {\n",
              "      display:flex;\n",
              "      flex-wrap:wrap;\n",
              "      gap: 12px;\n",
              "    }\n",
              "\n",
              "    .colab-df-convert {\n",
              "      background-color: #E8F0FE;\n",
              "      border: none;\n",
              "      border-radius: 50%;\n",
              "      cursor: pointer;\n",
              "      display: none;\n",
              "      fill: #1967D2;\n",
              "      height: 32px;\n",
              "      padding: 0 0 0 0;\n",
              "      width: 32px;\n",
              "    }\n",
              "\n",
              "    .colab-df-convert:hover {\n",
              "      background-color: #E2EBFA;\n",
              "      box-shadow: 0px 1px 2px rgba(60, 64, 67, 0.3), 0px 1px 3px 1px rgba(60, 64, 67, 0.15);\n",
              "      fill: #174EA6;\n",
              "    }\n",
              "\n",
              "    [theme=dark] .colab-df-convert {\n",
              "      background-color: #3B4455;\n",
              "      fill: #D2E3FC;\n",
              "    }\n",
              "\n",
              "    [theme=dark] .colab-df-convert:hover {\n",
              "      background-color: #434B5C;\n",
              "      box-shadow: 0px 1px 3px 1px rgba(0, 0, 0, 0.15);\n",
              "      filter: drop-shadow(0px 1px 2px rgba(0, 0, 0, 0.3));\n",
              "      fill: #FFFFFF;\n",
              "    }\n",
              "  </style>\n",
              "\n",
              "      <script>\n",
              "        const buttonEl =\n",
              "          document.querySelector('#df-38948a6b-5b58-4c82-8cda-7de742016bee button.colab-df-convert');\n",
              "        buttonEl.style.display =\n",
              "          google.colab.kernel.accessAllowed ? 'block' : 'none';\n",
              "\n",
              "        async function convertToInteractive(key) {\n",
              "          const element = document.querySelector('#df-38948a6b-5b58-4c82-8cda-7de742016bee');\n",
              "          const dataTable =\n",
              "            await google.colab.kernel.invokeFunction('convertToInteractive',\n",
              "                                                     [key], {});\n",
              "          if (!dataTable) return;\n",
              "\n",
              "          const docLinkHtml = 'Like what you see? Visit the ' +\n",
              "            '<a target=\"_blank\" href=https://colab.research.google.com/notebooks/data_table.ipynb>data table notebook</a>'\n",
              "            + ' to learn more about interactive tables.';\n",
              "          element.innerHTML = '';\n",
              "          dataTable['output_type'] = 'display_data';\n",
              "          await google.colab.output.renderOutput(dataTable, element);\n",
              "          const docLink = document.createElement('div');\n",
              "          docLink.innerHTML = docLinkHtml;\n",
              "          element.appendChild(docLink);\n",
              "        }\n",
              "      </script>\n",
              "    </div>\n",
              "  </div>\n",
              "  "
            ],
            "text/plain": [
              "        Destination Port  Flow Duration  Total Fwd Packets  \\\n",
              "0                     80          38308                  1   \n",
              "1                    389            479                 11   \n",
              "2                     88           1095                 10   \n",
              "3                    389          15206                 17   \n",
              "4                     88           1092                  9   \n",
              "...                  ...            ...                ...   \n",
              "692698                53          32215                  4   \n",
              "692699                53            324                  2   \n",
              "692700             58030             82                  2   \n",
              "692701                53        1048635                  6   \n",
              "692702                53          94939                  4   \n",
              "\n",
              "        Total Backward Packets  Total Length of Fwd Packets  \\\n",
              "0                            1                            6   \n",
              "1                            5                          172   \n",
              "2                            6                         3150   \n",
              "3                           12                         3452   \n",
              "4                            6                         3150   \n",
              "...                        ...                          ...   \n",
              "692698                       2                          112   \n",
              "692699                       2                           84   \n",
              "692700                       1                           31   \n",
              "692701                       2                          192   \n",
              "692702                       2                          188   \n",
              "\n",
              "        Total Length of Bwd Packets  Fwd Packet Length Max  \\\n",
              "0                                 6                      6   \n",
              "1                               326                     79   \n",
              "2                              3150                   1575   \n",
              "3                              6660                   1313   \n",
              "4                              3152                   1575   \n",
              "...                             ...                    ...   \n",
              "692698                          152                     28   \n",
              "692699                          362                     42   \n",
              "692700                            6                     31   \n",
              "692701                          256                     32   \n",
              "692702                          226                     47   \n",
              "\n",
              "        Fwd Packet Length Min  Fwd Packet Length Mean  Fwd Packet Length Std  \\\n",
              "0                           6                6.000000               0.000000   \n",
              "1                           0               15.636364              31.449238   \n",
              "2                           0              315.000000             632.561635   \n",
              "3                           0              203.058823             425.778474   \n",
              "4                           0              350.000000             694.509719   \n",
              "...                       ...                     ...                    ...   \n",
              "692698                     28               28.000000               0.000000   \n",
              "692699                     42               42.000000               0.000000   \n",
              "692700                      0               15.500000              21.920310   \n",
              "692701                     32               32.000000               0.000000   \n",
              "692702                     47               47.000000               0.000000   \n",
              "\n",
              "        ...  min_seg_size_forward  Active Mean  Active Std  Active Max  \\\n",
              "0       ...                    20          0.0         0.0           0   \n",
              "1       ...                    32          0.0         0.0           0   \n",
              "2       ...                    32          0.0         0.0           0   \n",
              "3       ...                    32          0.0         0.0           0   \n",
              "4       ...                    32          0.0         0.0           0   \n",
              "...     ...                   ...          ...         ...         ...   \n",
              "692698  ...                    20          0.0         0.0           0   \n",
              "692699  ...                    20          0.0         0.0           0   \n",
              "692700  ...                    32          0.0         0.0           0   \n",
              "692701  ...                    20          0.0         0.0           0   \n",
              "692702  ...                    20          0.0         0.0           0   \n",
              "\n",
              "        Active Min  Idle Mean  Idle Std  Idle Max  Idle Min   Label  \n",
              "0                0        0.0       0.0         0         0  BENIGN  \n",
              "1                0        0.0       0.0         0         0  BENIGN  \n",
              "2                0        0.0       0.0         0         0  BENIGN  \n",
              "3                0        0.0       0.0         0         0  BENIGN  \n",
              "4                0        0.0       0.0         0         0  BENIGN  \n",
              "...            ...        ...       ...       ...       ...     ...  \n",
              "692698           0        0.0       0.0         0         0  BENIGN  \n",
              "692699           0        0.0       0.0         0         0  BENIGN  \n",
              "692700           0        0.0       0.0         0         0  BENIGN  \n",
              "692701           0        0.0       0.0         0         0  BENIGN  \n",
              "692702           0        0.0       0.0         0         0  BENIGN  \n",
              "\n",
              "[692703 rows x 79 columns]"
            ]
          },
          "execution_count": 7,
          "metadata": {},
          "output_type": "execute_result"
        }
      ],
      "source": [
        "df"
      ]
    },
    {
      "cell_type": "code",
      "execution_count": null,
      "metadata": {
        "colab": {
          "base_uri": "https://localhost:8080/"
        },
        "id": "0Zv0GoYlrgcn",
        "outputId": "b41e88c0-7827-4789-a6d8-7ab4bbb1f0df"
      },
      "outputs": [
        {
          "data": {
            "text/plain": [
              "Index(['Destination Port', 'Flow Duration', 'Total Fwd Packets',\n",
              "       'Total Backward Packets', 'Total Length of Fwd Packets',\n",
              "       'Total Length of Bwd Packets', 'Fwd Packet Length Max',\n",
              "       'Fwd Packet Length Min', 'Fwd Packet Length Mean',\n",
              "       'Fwd Packet Length Std', 'Bwd Packet Length Max',\n",
              "       'Bwd Packet Length Min', 'Bwd Packet Length Mean',\n",
              "       'Bwd Packet Length Std', 'Flow Bytes/s', 'Flow Packets/s',\n",
              "       'Flow IAT Mean', 'Flow IAT Std', 'Flow IAT Max', 'Flow IAT Min',\n",
              "       'Fwd IAT Total', 'Fwd IAT Mean', 'Fwd IAT Std', 'Fwd IAT Max',\n",
              "       'Fwd IAT Min', 'Bwd IAT Total', 'Bwd IAT Mean', 'Bwd IAT Std',\n",
              "       'Bwd IAT Max', 'Bwd IAT Min', 'Fwd PSH Flags', 'Bwd PSH Flags',\n",
              "       'Fwd URG Flags', 'Bwd URG Flags', 'Fwd Header Length',\n",
              "       'Bwd Header Length', 'Fwd Packets/s', 'Bwd Packets/s',\n",
              "       'Min Packet Length', 'Max Packet Length', 'Packet Length Mean',\n",
              "       'Packet Length Std', 'Packet Length Variance', 'FIN Flag Count',\n",
              "       'SYN Flag Count', 'RST Flag Count', 'PSH Flag Count', 'ACK Flag Count',\n",
              "       'URG Flag Count', 'CWE Flag Count', 'ECE Flag Count', 'Down/Up Ratio',\n",
              "       'Average Packet Size', 'Avg Fwd Segment Size', 'Avg Bwd Segment Size',\n",
              "       'Fwd Header Length.1', 'Fwd Avg Bytes/Bulk', 'Fwd Avg Packets/Bulk',\n",
              "       'Fwd Avg Bulk Rate', 'Bwd Avg Bytes/Bulk', 'Bwd Avg Packets/Bulk',\n",
              "       'Bwd Avg Bulk Rate', 'Subflow Fwd Packets', 'Subflow Fwd Bytes',\n",
              "       'Subflow Bwd Packets', 'Subflow Bwd Bytes', 'Init_Win_bytes_forward',\n",
              "       'Init_Win_bytes_backward', 'act_data_pkt_fwd', 'min_seg_size_forward',\n",
              "       'Active Mean', 'Active Std', 'Active Max', 'Active Min', 'Idle Mean',\n",
              "       'Idle Std', 'Idle Max', 'Idle Min', 'Label'],\n",
              "      dtype='object')"
            ]
          },
          "execution_count": 8,
          "metadata": {},
          "output_type": "execute_result"
        }
      ],
      "source": [
        "df.columns"
      ]
    },
    {
      "cell_type": "code",
      "execution_count": null,
      "metadata": {
        "colab": {
          "base_uri": "https://localhost:8080/"
        },
        "id": "TQz8vYYsIGb_",
        "outputId": "f651d33a-f5bc-4d69-e240-43f11c5908d9"
      },
      "outputs": [
        {
          "data": {
            "text/plain": [
              "BENIGN              440031\n",
              "DoS Hulk            231073\n",
              "DoS GoldenEye        10293\n",
              "DoS slowloris         5796\n",
              "DoS Slowhttptest      5499\n",
              "Heartbleed              11\n",
              "Name: Label, dtype: int64"
            ]
          },
          "execution_count": 9,
          "metadata": {},
          "output_type": "execute_result"
        }
      ],
      "source": [
        "df['Label'].value_counts()"
      ]
    },
    {
      "cell_type": "code",
      "execution_count": null,
      "metadata": {
        "id": "BH5kdWe9rjpk"
      },
      "outputs": [],
      "source": [
        "# Z-score normalization\n",
        "features = df.dtypes[df.dtypes != 'object'].index\n",
        "df[features] = df[features].apply(\n",
        "    lambda x: (x - x.mean()) / (x.std()))\n",
        "# Fill empty values by 0\n",
        "df = df.fillna(0)"
      ]
    },
    {
      "cell_type": "code",
      "execution_count": null,
      "metadata": {
        "id": "NW7bgmESrp_W"
      },
      "outputs": [],
      "source": [
        "labelencoder = LabelEncoder()\n",
        "df.iloc[:, -1] = labelencoder.fit_transform(df.iloc[:, -1])"
      ]
    },
    {
      "cell_type": "code",
      "execution_count": null,
      "metadata": {
        "colab": {
          "base_uri": "https://localhost:8080/"
        },
        "id": "j81nQDHorq2L",
        "outputId": "1079ecd0-d244-4e62-b9da-0f2ba4d28b3f"
      },
      "outputs": [
        {
          "data": {
            "text/plain": [
              "0    440031\n",
              "2    231073\n",
              "1     10293\n",
              "4      5796\n",
              "3      5499\n",
              "5        11\n",
              "Name: Label, dtype: int64"
            ]
          },
          "execution_count": 12,
          "metadata": {},
          "output_type": "execute_result"
        }
      ],
      "source": [
        "df['Label'].value_counts()"
      ]
    },
    {
      "cell_type": "code",
      "execution_count": null,
      "metadata": {
        "id": "NZTTD3YIrt1-"
      },
      "outputs": [],
      "source": [
        "# retain the minority class instances and sample the majority class instances\n",
        "df_minor = df[(df['Label']==5)|(df['Label']==4)|(df['Label']==3)]\n",
        "df_major = df.drop(df_minor.index)"
      ]
    },
    {
      "cell_type": "code",
      "execution_count": null,
      "metadata": {
        "id": "Txk6ieRpsA90"
      },
      "outputs": [],
      "source": [
        "X = df_major.drop(['Label'],axis=1) \n",
        "y = df_major.iloc[:, -1].values.reshape(-1,1)\n",
        "y=np.ravel(y)"
      ]
    },
    {
      "cell_type": "code",
      "execution_count": null,
      "metadata": {
        "id": "sBQjBKq6sDRK"
      },
      "outputs": [],
      "source": [
        "from sklearn.cluster import MiniBatchKMeans\n",
        "kmeans = MiniBatchKMeans(n_clusters=1000, random_state=0).fit(X)"
      ]
    },
    {
      "cell_type": "code",
      "execution_count": null,
      "metadata": {
        "id": "j4kUjthlsEB6"
      },
      "outputs": [],
      "source": [
        "klabel=kmeans.labels_\n",
        "df_major['klabel']=klabel"
      ]
    },
    {
      "cell_type": "code",
      "execution_count": null,
      "metadata": {
        "colab": {
          "base_uri": "https://localhost:8080/"
        },
        "id": "XIIlbEWqsG0Y",
        "outputId": "09c040f4-8954-4067-8810-d749682e27ca"
      },
      "outputs": [
        {
          "data": {
            "text/plain": [
              "11     9376\n",
              "703    6933\n",
              "298    6613\n",
              "252    5889\n",
              "443    4347\n",
              "       ... \n",
              "710      23\n",
              "495      19\n",
              "686      16\n",
              "481      15\n",
              "567       1\n",
              "Name: klabel, Length: 990, dtype: int64"
            ]
          },
          "execution_count": 17,
          "metadata": {},
          "output_type": "execute_result"
        }
      ],
      "source": [
        "df_major['klabel'].value_counts()"
      ]
    },
    {
      "cell_type": "code",
      "execution_count": null,
      "metadata": {
        "id": "ubP3QHxlsKc-"
      },
      "outputs": [],
      "source": [
        "cols = list(df_major)\n",
        "cols.insert(78, cols.pop(cols.index('Label')))\n",
        "df_major = df_major.loc[:, cols]"
      ]
    },
    {
      "cell_type": "code",
      "execution_count": null,
      "metadata": {
        "colab": {
          "base_uri": "https://localhost:8080/",
          "height": 539
        },
        "id": "a6u9BwbIsNwO",
        "outputId": "7b2e9806-caf6-4a36-ec92-a039f7d02879"
      },
      "outputs": [
        {
          "data": {
            "text/html": [
              "\n",
              "  <div id=\"df-d2777ce1-3c75-40ef-a76b-727dc4c0141b\">\n",
              "    <div class=\"colab-df-container\">\n",
              "      <div>\n",
              "<style scoped>\n",
              "    .dataframe tbody tr th:only-of-type {\n",
              "        vertical-align: middle;\n",
              "    }\n",
              "\n",
              "    .dataframe tbody tr th {\n",
              "        vertical-align: top;\n",
              "    }\n",
              "\n",
              "    .dataframe thead th {\n",
              "        text-align: right;\n",
              "    }\n",
              "</style>\n",
              "<table border=\"1\" class=\"dataframe\">\n",
              "  <thead>\n",
              "    <tr style=\"text-align: right;\">\n",
              "      <th></th>\n",
              "      <th>Destination Port</th>\n",
              "      <th>Flow Duration</th>\n",
              "      <th>Total Fwd Packets</th>\n",
              "      <th>Total Backward Packets</th>\n",
              "      <th>Total Length of Fwd Packets</th>\n",
              "      <th>Total Length of Bwd Packets</th>\n",
              "      <th>Fwd Packet Length Max</th>\n",
              "      <th>Fwd Packet Length Min</th>\n",
              "      <th>Fwd Packet Length Mean</th>\n",
              "      <th>Fwd Packet Length Std</th>\n",
              "      <th>...</th>\n",
              "      <th>Active Mean</th>\n",
              "      <th>Active Std</th>\n",
              "      <th>Active Max</th>\n",
              "      <th>Active Min</th>\n",
              "      <th>Idle Mean</th>\n",
              "      <th>Idle Std</th>\n",
              "      <th>Idle Max</th>\n",
              "      <th>Idle Min</th>\n",
              "      <th>Label</th>\n",
              "      <th>klabel</th>\n",
              "    </tr>\n",
              "  </thead>\n",
              "  <tbody>\n",
              "    <tr>\n",
              "      <th>0</th>\n",
              "      <td>-0.356503</td>\n",
              "      <td>-0.653857</td>\n",
              "      <td>-0.011451</td>\n",
              "      <td>-0.009362</td>\n",
              "      <td>-0.089086</td>\n",
              "      <td>-0.007581</td>\n",
              "      <td>-0.376966</td>\n",
              "      <td>-0.176667</td>\n",
              "      <td>-0.346068</td>\n",
              "      <td>-0.366591</td>\n",
              "      <td>...</td>\n",
              "      <td>-0.131646</td>\n",
              "      <td>-0.100396</td>\n",
              "      <td>-0.14867</td>\n",
              "      <td>-0.104366</td>\n",
              "      <td>-0.579979</td>\n",
              "      <td>-0.105686</td>\n",
              "      <td>-0.58524</td>\n",
              "      <td>-0.57078</td>\n",
              "      <td>0</td>\n",
              "      <td>657</td>\n",
              "    </tr>\n",
              "    <tr>\n",
              "      <th>1</th>\n",
              "      <td>-0.336856</td>\n",
              "      <td>-0.654742</td>\n",
              "      <td>0.001932</td>\n",
              "      <td>-0.005298</td>\n",
              "      <td>-0.062153</td>\n",
              "      <td>-0.007438</td>\n",
              "      <td>-0.256055</td>\n",
              "      <td>-0.294156</td>\n",
              "      <td>-0.284940</td>\n",
              "      <td>-0.227513</td>\n",
              "      <td>...</td>\n",
              "      <td>-0.131646</td>\n",
              "      <td>-0.100396</td>\n",
              "      <td>-0.14867</td>\n",
              "      <td>-0.104366</td>\n",
              "      <td>-0.579979</td>\n",
              "      <td>-0.105686</td>\n",
              "      <td>-0.58524</td>\n",
              "      <td>-0.57078</td>\n",
              "      <td>0</td>\n",
              "      <td>14</td>\n",
              "    </tr>\n",
              "    <tr>\n",
              "      <th>2</th>\n",
              "      <td>-0.355994</td>\n",
              "      <td>-0.654727</td>\n",
              "      <td>0.000594</td>\n",
              "      <td>-0.004282</td>\n",
              "      <td>0.421001</td>\n",
              "      <td>-0.006178</td>\n",
              "      <td>2.221784</td>\n",
              "      <td>-0.294156</td>\n",
              "      <td>1.614047</td>\n",
              "      <td>2.430793</td>\n",
              "      <td>...</td>\n",
              "      <td>-0.131646</td>\n",
              "      <td>-0.100396</td>\n",
              "      <td>-0.14867</td>\n",
              "      <td>-0.104366</td>\n",
              "      <td>-0.579979</td>\n",
              "      <td>-0.105686</td>\n",
              "      <td>-0.58524</td>\n",
              "      <td>-0.57078</td>\n",
              "      <td>0</td>\n",
              "      <td>651</td>\n",
              "    </tr>\n",
              "    <tr>\n",
              "      <th>3</th>\n",
              "      <td>-0.336856</td>\n",
              "      <td>-0.654397</td>\n",
              "      <td>0.009962</td>\n",
              "      <td>0.001815</td>\n",
              "      <td>0.469998</td>\n",
              "      <td>-0.004612</td>\n",
              "      <td>1.787831</td>\n",
              "      <td>-0.294156</td>\n",
              "      <td>0.903958</td>\n",
              "      <td>1.516334</td>\n",
              "      <td>...</td>\n",
              "      <td>-0.131646</td>\n",
              "      <td>-0.100396</td>\n",
              "      <td>-0.14867</td>\n",
              "      <td>-0.104366</td>\n",
              "      <td>-0.579979</td>\n",
              "      <td>-0.105686</td>\n",
              "      <td>-0.58524</td>\n",
              "      <td>-0.57078</td>\n",
              "      <td>0</td>\n",
              "      <td>236</td>\n",
              "    </tr>\n",
              "    <tr>\n",
              "      <th>4</th>\n",
              "      <td>-0.355994</td>\n",
              "      <td>-0.654727</td>\n",
              "      <td>-0.000744</td>\n",
              "      <td>-0.004282</td>\n",
              "      <td>0.421001</td>\n",
              "      <td>-0.006177</td>\n",
              "      <td>2.221784</td>\n",
              "      <td>-0.294156</td>\n",
              "      <td>1.836067</td>\n",
              "      <td>2.704747</td>\n",
              "      <td>...</td>\n",
              "      <td>-0.131646</td>\n",
              "      <td>-0.100396</td>\n",
              "      <td>-0.14867</td>\n",
              "      <td>-0.104366</td>\n",
              "      <td>-0.579979</td>\n",
              "      <td>-0.105686</td>\n",
              "      <td>-0.58524</td>\n",
              "      <td>-0.57078</td>\n",
              "      <td>0</td>\n",
              "      <td>651</td>\n",
              "    </tr>\n",
              "    <tr>\n",
              "      <th>...</th>\n",
              "      <td>...</td>\n",
              "      <td>...</td>\n",
              "      <td>...</td>\n",
              "      <td>...</td>\n",
              "      <td>...</td>\n",
              "      <td>...</td>\n",
              "      <td>...</td>\n",
              "      <td>...</td>\n",
              "      <td>...</td>\n",
              "      <td>...</td>\n",
              "      <td>...</td>\n",
              "      <td>...</td>\n",
              "      <td>...</td>\n",
              "      <td>...</td>\n",
              "      <td>...</td>\n",
              "      <td>...</td>\n",
              "      <td>...</td>\n",
              "      <td>...</td>\n",
              "      <td>...</td>\n",
              "      <td>...</td>\n",
              "      <td>...</td>\n",
              "    </tr>\n",
              "    <tr>\n",
              "      <th>692698</th>\n",
              "      <td>-0.358219</td>\n",
              "      <td>-0.653999</td>\n",
              "      <td>-0.007436</td>\n",
              "      <td>-0.008346</td>\n",
              "      <td>-0.071888</td>\n",
              "      <td>-0.007516</td>\n",
              "      <td>-0.340527</td>\n",
              "      <td>0.254124</td>\n",
              "      <td>-0.206513</td>\n",
              "      <td>-0.366591</td>\n",
              "      <td>...</td>\n",
              "      <td>-0.131646</td>\n",
              "      <td>-0.100396</td>\n",
              "      <td>-0.14867</td>\n",
              "      <td>-0.104366</td>\n",
              "      <td>-0.579979</td>\n",
              "      <td>-0.105686</td>\n",
              "      <td>-0.58524</td>\n",
              "      <td>-0.57078</td>\n",
              "      <td>0</td>\n",
              "      <td>371</td>\n",
              "    </tr>\n",
              "    <tr>\n",
              "      <th>692699</th>\n",
              "      <td>-0.358219</td>\n",
              "      <td>-0.654745</td>\n",
              "      <td>-0.010113</td>\n",
              "      <td>-0.008346</td>\n",
              "      <td>-0.076431</td>\n",
              "      <td>-0.007422</td>\n",
              "      <td>-0.317339</td>\n",
              "      <td>0.528264</td>\n",
              "      <td>-0.117705</td>\n",
              "      <td>-0.366591</td>\n",
              "      <td>...</td>\n",
              "      <td>-0.131646</td>\n",
              "      <td>-0.100396</td>\n",
              "      <td>-0.14867</td>\n",
              "      <td>-0.104366</td>\n",
              "      <td>-0.579979</td>\n",
              "      <td>-0.105686</td>\n",
              "      <td>-0.58524</td>\n",
              "      <td>-0.57078</td>\n",
              "      <td>0</td>\n",
              "      <td>691</td>\n",
              "    </tr>\n",
              "    <tr>\n",
              "      <th>692700</th>\n",
              "      <td>3.328144</td>\n",
              "      <td>-0.654751</td>\n",
              "      <td>-0.010113</td>\n",
              "      <td>-0.009362</td>\n",
              "      <td>-0.085029</td>\n",
              "      <td>-0.007581</td>\n",
              "      <td>-0.335558</td>\n",
              "      <td>-0.294156</td>\n",
              "      <td>-0.285805</td>\n",
              "      <td>-0.269653</td>\n",
              "      <td>...</td>\n",
              "      <td>-0.131646</td>\n",
              "      <td>-0.100396</td>\n",
              "      <td>-0.14867</td>\n",
              "      <td>-0.104366</td>\n",
              "      <td>-0.579979</td>\n",
              "      <td>-0.105686</td>\n",
              "      <td>-0.58524</td>\n",
              "      <td>-0.57078</td>\n",
              "      <td>0</td>\n",
              "      <td>147</td>\n",
              "    </tr>\n",
              "    <tr>\n",
              "      <th>692701</th>\n",
              "      <td>-0.358219</td>\n",
              "      <td>-0.630233</td>\n",
              "      <td>-0.004759</td>\n",
              "      <td>-0.008346</td>\n",
              "      <td>-0.058909</td>\n",
              "      <td>-0.007469</td>\n",
              "      <td>-0.333902</td>\n",
              "      <td>0.332450</td>\n",
              "      <td>-0.181139</td>\n",
              "      <td>-0.366591</td>\n",
              "      <td>...</td>\n",
              "      <td>-0.131646</td>\n",
              "      <td>-0.100396</td>\n",
              "      <td>-0.14867</td>\n",
              "      <td>-0.104366</td>\n",
              "      <td>-0.579979</td>\n",
              "      <td>-0.105686</td>\n",
              "      <td>-0.58524</td>\n",
              "      <td>-0.57078</td>\n",
              "      <td>0</td>\n",
              "      <td>393</td>\n",
              "    </tr>\n",
              "    <tr>\n",
              "      <th>692702</th>\n",
              "      <td>-0.358219</td>\n",
              "      <td>-0.652533</td>\n",
              "      <td>-0.007436</td>\n",
              "      <td>-0.008346</td>\n",
              "      <td>-0.059558</td>\n",
              "      <td>-0.007483</td>\n",
              "      <td>-0.309057</td>\n",
              "      <td>0.626171</td>\n",
              "      <td>-0.085988</td>\n",
              "      <td>-0.366591</td>\n",
              "      <td>...</td>\n",
              "      <td>-0.131646</td>\n",
              "      <td>-0.100396</td>\n",
              "      <td>-0.14867</td>\n",
              "      <td>-0.104366</td>\n",
              "      <td>-0.579979</td>\n",
              "      <td>-0.105686</td>\n",
              "      <td>-0.58524</td>\n",
              "      <td>-0.57078</td>\n",
              "      <td>0</td>\n",
              "      <td>737</td>\n",
              "    </tr>\n",
              "  </tbody>\n",
              "</table>\n",
              "<p>681397 rows × 80 columns</p>\n",
              "</div>\n",
              "      <button class=\"colab-df-convert\" onclick=\"convertToInteractive('df-d2777ce1-3c75-40ef-a76b-727dc4c0141b')\"\n",
              "              title=\"Convert this dataframe to an interactive table.\"\n",
              "              style=\"display:none;\">\n",
              "        \n",
              "  <svg xmlns=\"http://www.w3.org/2000/svg\" height=\"24px\"viewBox=\"0 0 24 24\"\n",
              "       width=\"24px\">\n",
              "    <path d=\"M0 0h24v24H0V0z\" fill=\"none\"/>\n",
              "    <path d=\"M18.56 5.44l.94 2.06.94-2.06 2.06-.94-2.06-.94-.94-2.06-.94 2.06-2.06.94zm-11 1L8.5 8.5l.94-2.06 2.06-.94-2.06-.94L8.5 2.5l-.94 2.06-2.06.94zm10 10l.94 2.06.94-2.06 2.06-.94-2.06-.94-.94-2.06-.94 2.06-2.06.94z\"/><path d=\"M17.41 7.96l-1.37-1.37c-.4-.4-.92-.59-1.43-.59-.52 0-1.04.2-1.43.59L10.3 9.45l-7.72 7.72c-.78.78-.78 2.05 0 2.83L4 21.41c.39.39.9.59 1.41.59.51 0 1.02-.2 1.41-.59l7.78-7.78 2.81-2.81c.8-.78.8-2.07 0-2.86zM5.41 20L4 18.59l7.72-7.72 1.47 1.35L5.41 20z\"/>\n",
              "  </svg>\n",
              "      </button>\n",
              "      \n",
              "  <style>\n",
              "    .colab-df-container {\n",
              "      display:flex;\n",
              "      flex-wrap:wrap;\n",
              "      gap: 12px;\n",
              "    }\n",
              "\n",
              "    .colab-df-convert {\n",
              "      background-color: #E8F0FE;\n",
              "      border: none;\n",
              "      border-radius: 50%;\n",
              "      cursor: pointer;\n",
              "      display: none;\n",
              "      fill: #1967D2;\n",
              "      height: 32px;\n",
              "      padding: 0 0 0 0;\n",
              "      width: 32px;\n",
              "    }\n",
              "\n",
              "    .colab-df-convert:hover {\n",
              "      background-color: #E2EBFA;\n",
              "      box-shadow: 0px 1px 2px rgba(60, 64, 67, 0.3), 0px 1px 3px 1px rgba(60, 64, 67, 0.15);\n",
              "      fill: #174EA6;\n",
              "    }\n",
              "\n",
              "    [theme=dark] .colab-df-convert {\n",
              "      background-color: #3B4455;\n",
              "      fill: #D2E3FC;\n",
              "    }\n",
              "\n",
              "    [theme=dark] .colab-df-convert:hover {\n",
              "      background-color: #434B5C;\n",
              "      box-shadow: 0px 1px 3px 1px rgba(0, 0, 0, 0.15);\n",
              "      filter: drop-shadow(0px 1px 2px rgba(0, 0, 0, 0.3));\n",
              "      fill: #FFFFFF;\n",
              "    }\n",
              "  </style>\n",
              "\n",
              "      <script>\n",
              "        const buttonEl =\n",
              "          document.querySelector('#df-d2777ce1-3c75-40ef-a76b-727dc4c0141b button.colab-df-convert');\n",
              "        buttonEl.style.display =\n",
              "          google.colab.kernel.accessAllowed ? 'block' : 'none';\n",
              "\n",
              "        async function convertToInteractive(key) {\n",
              "          const element = document.querySelector('#df-d2777ce1-3c75-40ef-a76b-727dc4c0141b');\n",
              "          const dataTable =\n",
              "            await google.colab.kernel.invokeFunction('convertToInteractive',\n",
              "                                                     [key], {});\n",
              "          if (!dataTable) return;\n",
              "\n",
              "          const docLinkHtml = 'Like what you see? Visit the ' +\n",
              "            '<a target=\"_blank\" href=https://colab.research.google.com/notebooks/data_table.ipynb>data table notebook</a>'\n",
              "            + ' to learn more about interactive tables.';\n",
              "          element.innerHTML = '';\n",
              "          dataTable['output_type'] = 'display_data';\n",
              "          await google.colab.output.renderOutput(dataTable, element);\n",
              "          const docLink = document.createElement('div');\n",
              "          docLink.innerHTML = docLinkHtml;\n",
              "          element.appendChild(docLink);\n",
              "        }\n",
              "      </script>\n",
              "    </div>\n",
              "  </div>\n",
              "  "
            ],
            "text/plain": [
              "        Destination Port  Flow Duration  Total Fwd Packets  \\\n",
              "0              -0.356503      -0.653857          -0.011451   \n",
              "1              -0.336856      -0.654742           0.001932   \n",
              "2              -0.355994      -0.654727           0.000594   \n",
              "3              -0.336856      -0.654397           0.009962   \n",
              "4              -0.355994      -0.654727          -0.000744   \n",
              "...                  ...            ...                ...   \n",
              "692698         -0.358219      -0.653999          -0.007436   \n",
              "692699         -0.358219      -0.654745          -0.010113   \n",
              "692700          3.328144      -0.654751          -0.010113   \n",
              "692701         -0.358219      -0.630233          -0.004759   \n",
              "692702         -0.358219      -0.652533          -0.007436   \n",
              "\n",
              "        Total Backward Packets  Total Length of Fwd Packets  \\\n",
              "0                    -0.009362                    -0.089086   \n",
              "1                    -0.005298                    -0.062153   \n",
              "2                    -0.004282                     0.421001   \n",
              "3                     0.001815                     0.469998   \n",
              "4                    -0.004282                     0.421001   \n",
              "...                        ...                          ...   \n",
              "692698               -0.008346                    -0.071888   \n",
              "692699               -0.008346                    -0.076431   \n",
              "692700               -0.009362                    -0.085029   \n",
              "692701               -0.008346                    -0.058909   \n",
              "692702               -0.008346                    -0.059558   \n",
              "\n",
              "        Total Length of Bwd Packets  Fwd Packet Length Max  \\\n",
              "0                         -0.007581              -0.376966   \n",
              "1                         -0.007438              -0.256055   \n",
              "2                         -0.006178               2.221784   \n",
              "3                         -0.004612               1.787831   \n",
              "4                         -0.006177               2.221784   \n",
              "...                             ...                    ...   \n",
              "692698                    -0.007516              -0.340527   \n",
              "692699                    -0.007422              -0.317339   \n",
              "692700                    -0.007581              -0.335558   \n",
              "692701                    -0.007469              -0.333902   \n",
              "692702                    -0.007483              -0.309057   \n",
              "\n",
              "        Fwd Packet Length Min  Fwd Packet Length Mean  Fwd Packet Length Std  \\\n",
              "0                   -0.176667               -0.346068              -0.366591   \n",
              "1                   -0.294156               -0.284940              -0.227513   \n",
              "2                   -0.294156                1.614047               2.430793   \n",
              "3                   -0.294156                0.903958               1.516334   \n",
              "4                   -0.294156                1.836067               2.704747   \n",
              "...                       ...                     ...                    ...   \n",
              "692698               0.254124               -0.206513              -0.366591   \n",
              "692699               0.528264               -0.117705              -0.366591   \n",
              "692700              -0.294156               -0.285805              -0.269653   \n",
              "692701               0.332450               -0.181139              -0.366591   \n",
              "692702               0.626171               -0.085988              -0.366591   \n",
              "\n",
              "        ...  Active Mean  Active Std  Active Max  Active Min  Idle Mean  \\\n",
              "0       ...    -0.131646   -0.100396    -0.14867   -0.104366  -0.579979   \n",
              "1       ...    -0.131646   -0.100396    -0.14867   -0.104366  -0.579979   \n",
              "2       ...    -0.131646   -0.100396    -0.14867   -0.104366  -0.579979   \n",
              "3       ...    -0.131646   -0.100396    -0.14867   -0.104366  -0.579979   \n",
              "4       ...    -0.131646   -0.100396    -0.14867   -0.104366  -0.579979   \n",
              "...     ...          ...         ...         ...         ...        ...   \n",
              "692698  ...    -0.131646   -0.100396    -0.14867   -0.104366  -0.579979   \n",
              "692699  ...    -0.131646   -0.100396    -0.14867   -0.104366  -0.579979   \n",
              "692700  ...    -0.131646   -0.100396    -0.14867   -0.104366  -0.579979   \n",
              "692701  ...    -0.131646   -0.100396    -0.14867   -0.104366  -0.579979   \n",
              "692702  ...    -0.131646   -0.100396    -0.14867   -0.104366  -0.579979   \n",
              "\n",
              "        Idle Std  Idle Max  Idle Min  Label  klabel  \n",
              "0      -0.105686  -0.58524  -0.57078      0     657  \n",
              "1      -0.105686  -0.58524  -0.57078      0      14  \n",
              "2      -0.105686  -0.58524  -0.57078      0     651  \n",
              "3      -0.105686  -0.58524  -0.57078      0     236  \n",
              "4      -0.105686  -0.58524  -0.57078      0     651  \n",
              "...          ...       ...       ...    ...     ...  \n",
              "692698 -0.105686  -0.58524  -0.57078      0     371  \n",
              "692699 -0.105686  -0.58524  -0.57078      0     691  \n",
              "692700 -0.105686  -0.58524  -0.57078      0     147  \n",
              "692701 -0.105686  -0.58524  -0.57078      0     393  \n",
              "692702 -0.105686  -0.58524  -0.57078      0     737  \n",
              "\n",
              "[681397 rows x 80 columns]"
            ]
          },
          "execution_count": 19,
          "metadata": {},
          "output_type": "execute_result"
        }
      ],
      "source": [
        "df_major"
      ]
    },
    {
      "cell_type": "code",
      "execution_count": null,
      "metadata": {
        "id": "2dKikmKLsQgy"
      },
      "outputs": [],
      "source": [
        "def typicalSampling(group):\n",
        "    name = group.name\n",
        "    frac = 0.008\n",
        "    return group.sample(frac=frac)\n",
        "\n",
        "result = df_major.groupby(\n",
        "    'klabel', group_keys=False\n",
        ").apply(typicalSampling)"
      ]
    },
    {
      "cell_type": "code",
      "execution_count": null,
      "metadata": {
        "id": "wrk47Ku6sTwo"
      },
      "outputs": [],
      "source": [
        "# result['Label'].value_counts()"
      ]
    },
    {
      "cell_type": "code",
      "execution_count": null,
      "metadata": {
        "colab": {
          "base_uri": "https://localhost:8080/",
          "height": 539
        },
        "id": "RFzhVdaKsXfB",
        "outputId": "ada42b86-3780-4349-e29b-ec760f474165"
      },
      "outputs": [
        {
          "data": {
            "text/html": [
              "\n",
              "  <div id=\"df-aca23f95-8bb7-4240-b9a8-c2cf54f75df3\">\n",
              "    <div class=\"colab-df-container\">\n",
              "      <div>\n",
              "<style scoped>\n",
              "    .dataframe tbody tr th:only-of-type {\n",
              "        vertical-align: middle;\n",
              "    }\n",
              "\n",
              "    .dataframe tbody tr th {\n",
              "        vertical-align: top;\n",
              "    }\n",
              "\n",
              "    .dataframe thead th {\n",
              "        text-align: right;\n",
              "    }\n",
              "</style>\n",
              "<table border=\"1\" class=\"dataframe\">\n",
              "  <thead>\n",
              "    <tr style=\"text-align: right;\">\n",
              "      <th></th>\n",
              "      <th>Destination Port</th>\n",
              "      <th>Flow Duration</th>\n",
              "      <th>Total Fwd Packets</th>\n",
              "      <th>Total Backward Packets</th>\n",
              "      <th>Total Length of Fwd Packets</th>\n",
              "      <th>Total Length of Bwd Packets</th>\n",
              "      <th>Fwd Packet Length Max</th>\n",
              "      <th>Fwd Packet Length Min</th>\n",
              "      <th>Fwd Packet Length Mean</th>\n",
              "      <th>Fwd Packet Length Std</th>\n",
              "      <th>...</th>\n",
              "      <th>Active Mean</th>\n",
              "      <th>Active Std</th>\n",
              "      <th>Active Max</th>\n",
              "      <th>Active Min</th>\n",
              "      <th>Idle Mean</th>\n",
              "      <th>Idle Std</th>\n",
              "      <th>Idle Max</th>\n",
              "      <th>Idle Min</th>\n",
              "      <th>Label</th>\n",
              "      <th>klabel</th>\n",
              "    </tr>\n",
              "  </thead>\n",
              "  <tbody>\n",
              "    <tr>\n",
              "      <th>432628</th>\n",
              "      <td>-0.358219</td>\n",
              "      <td>-0.654749</td>\n",
              "      <td>-0.010113</td>\n",
              "      <td>-0.008346</td>\n",
              "      <td>-0.079351</td>\n",
              "      <td>-0.007521</td>\n",
              "      <td>-0.332246</td>\n",
              "      <td>0.352031</td>\n",
              "      <td>-0.174796</td>\n",
              "      <td>-0.366591</td>\n",
              "      <td>...</td>\n",
              "      <td>-0.131646</td>\n",
              "      <td>-0.100396</td>\n",
              "      <td>-0.14867</td>\n",
              "      <td>-0.104366</td>\n",
              "      <td>-0.579979</td>\n",
              "      <td>-0.105686</td>\n",
              "      <td>-0.58524</td>\n",
              "      <td>-0.57078</td>\n",
              "      <td>0</td>\n",
              "      <td>0</td>\n",
              "    </tr>\n",
              "    <tr>\n",
              "      <th>502368</th>\n",
              "      <td>-0.358219</td>\n",
              "      <td>-0.654749</td>\n",
              "      <td>-0.010113</td>\n",
              "      <td>-0.008346</td>\n",
              "      <td>-0.079351</td>\n",
              "      <td>-0.007526</td>\n",
              "      <td>-0.332246</td>\n",
              "      <td>0.352031</td>\n",
              "      <td>-0.174796</td>\n",
              "      <td>-0.366591</td>\n",
              "      <td>...</td>\n",
              "      <td>-0.131646</td>\n",
              "      <td>-0.100396</td>\n",
              "      <td>-0.14867</td>\n",
              "      <td>-0.104366</td>\n",
              "      <td>-0.579979</td>\n",
              "      <td>-0.105686</td>\n",
              "      <td>-0.58524</td>\n",
              "      <td>-0.57078</td>\n",
              "      <td>0</td>\n",
              "      <td>0</td>\n",
              "    </tr>\n",
              "    <tr>\n",
              "      <th>565162</th>\n",
              "      <td>-0.358219</td>\n",
              "      <td>-0.654748</td>\n",
              "      <td>-0.010113</td>\n",
              "      <td>-0.008346</td>\n",
              "      <td>-0.079676</td>\n",
              "      <td>-0.007520</td>\n",
              "      <td>-0.333902</td>\n",
              "      <td>0.332450</td>\n",
              "      <td>-0.181139</td>\n",
              "      <td>-0.366591</td>\n",
              "      <td>...</td>\n",
              "      <td>-0.131646</td>\n",
              "      <td>-0.100396</td>\n",
              "      <td>-0.14867</td>\n",
              "      <td>-0.104366</td>\n",
              "      <td>-0.579979</td>\n",
              "      <td>-0.105686</td>\n",
              "      <td>-0.58524</td>\n",
              "      <td>-0.57078</td>\n",
              "      <td>0</td>\n",
              "      <td>0</td>\n",
              "    </tr>\n",
              "    <tr>\n",
              "      <th>497960</th>\n",
              "      <td>-0.358219</td>\n",
              "      <td>-0.654749</td>\n",
              "      <td>-0.010113</td>\n",
              "      <td>-0.008346</td>\n",
              "      <td>-0.079676</td>\n",
              "      <td>-0.007530</td>\n",
              "      <td>-0.333902</td>\n",
              "      <td>0.332450</td>\n",
              "      <td>-0.181139</td>\n",
              "      <td>-0.366591</td>\n",
              "      <td>...</td>\n",
              "      <td>-0.131646</td>\n",
              "      <td>-0.100396</td>\n",
              "      <td>-0.14867</td>\n",
              "      <td>-0.104366</td>\n",
              "      <td>-0.579979</td>\n",
              "      <td>-0.105686</td>\n",
              "      <td>-0.58524</td>\n",
              "      <td>-0.57078</td>\n",
              "      <td>0</td>\n",
              "      <td>0</td>\n",
              "    </tr>\n",
              "    <tr>\n",
              "      <th>541585</th>\n",
              "      <td>-0.358219</td>\n",
              "      <td>-0.654749</td>\n",
              "      <td>-0.010113</td>\n",
              "      <td>-0.008346</td>\n",
              "      <td>-0.079676</td>\n",
              "      <td>-0.007530</td>\n",
              "      <td>-0.333902</td>\n",
              "      <td>0.332450</td>\n",
              "      <td>-0.181139</td>\n",
              "      <td>-0.366591</td>\n",
              "      <td>...</td>\n",
              "      <td>-0.131646</td>\n",
              "      <td>-0.100396</td>\n",
              "      <td>-0.14867</td>\n",
              "      <td>-0.104366</td>\n",
              "      <td>-0.579979</td>\n",
              "      <td>-0.105686</td>\n",
              "      <td>-0.58524</td>\n",
              "      <td>-0.57078</td>\n",
              "      <td>0</td>\n",
              "      <td>0</td>\n",
              "    </tr>\n",
              "    <tr>\n",
              "      <th>...</th>\n",
              "      <td>...</td>\n",
              "      <td>...</td>\n",
              "      <td>...</td>\n",
              "      <td>...</td>\n",
              "      <td>...</td>\n",
              "      <td>...</td>\n",
              "      <td>...</td>\n",
              "      <td>...</td>\n",
              "      <td>...</td>\n",
              "      <td>...</td>\n",
              "      <td>...</td>\n",
              "      <td>...</td>\n",
              "      <td>...</td>\n",
              "      <td>...</td>\n",
              "      <td>...</td>\n",
              "      <td>...</td>\n",
              "      <td>...</td>\n",
              "      <td>...</td>\n",
              "      <td>...</td>\n",
              "      <td>...</td>\n",
              "      <td>...</td>\n",
              "    </tr>\n",
              "    <tr>\n",
              "      <th>592331</th>\n",
              "      <td>-0.358219</td>\n",
              "      <td>-0.654749</td>\n",
              "      <td>-0.010113</td>\n",
              "      <td>-0.008346</td>\n",
              "      <td>-0.072861</td>\n",
              "      <td>-0.007522</td>\n",
              "      <td>-0.299119</td>\n",
              "      <td>0.743659</td>\n",
              "      <td>-0.047927</td>\n",
              "      <td>-0.366591</td>\n",
              "      <td>...</td>\n",
              "      <td>-0.131646</td>\n",
              "      <td>-0.100396</td>\n",
              "      <td>-0.14867</td>\n",
              "      <td>-0.104366</td>\n",
              "      <td>-0.579979</td>\n",
              "      <td>-0.105686</td>\n",
              "      <td>-0.58524</td>\n",
              "      <td>-0.57078</td>\n",
              "      <td>0</td>\n",
              "      <td>999</td>\n",
              "    </tr>\n",
              "    <tr>\n",
              "      <th>475636</th>\n",
              "      <td>-0.358219</td>\n",
              "      <td>-0.654750</td>\n",
              "      <td>-0.010113</td>\n",
              "      <td>-0.008346</td>\n",
              "      <td>-0.074159</td>\n",
              "      <td>-0.007526</td>\n",
              "      <td>-0.305745</td>\n",
              "      <td>0.665334</td>\n",
              "      <td>-0.073301</td>\n",
              "      <td>-0.366591</td>\n",
              "      <td>...</td>\n",
              "      <td>-0.131646</td>\n",
              "      <td>-0.100396</td>\n",
              "      <td>-0.14867</td>\n",
              "      <td>-0.104366</td>\n",
              "      <td>-0.579979</td>\n",
              "      <td>-0.105686</td>\n",
              "      <td>-0.58524</td>\n",
              "      <td>-0.57078</td>\n",
              "      <td>0</td>\n",
              "      <td>999</td>\n",
              "    </tr>\n",
              "    <tr>\n",
              "      <th>569057</th>\n",
              "      <td>-0.358219</td>\n",
              "      <td>-0.654749</td>\n",
              "      <td>-0.010113</td>\n",
              "      <td>-0.008346</td>\n",
              "      <td>-0.074808</td>\n",
              "      <td>-0.007527</td>\n",
              "      <td>-0.309057</td>\n",
              "      <td>0.626171</td>\n",
              "      <td>-0.085988</td>\n",
              "      <td>-0.366591</td>\n",
              "      <td>...</td>\n",
              "      <td>-0.131646</td>\n",
              "      <td>-0.100396</td>\n",
              "      <td>-0.14867</td>\n",
              "      <td>-0.104366</td>\n",
              "      <td>-0.579979</td>\n",
              "      <td>-0.105686</td>\n",
              "      <td>-0.58524</td>\n",
              "      <td>-0.57078</td>\n",
              "      <td>0</td>\n",
              "      <td>999</td>\n",
              "    </tr>\n",
              "    <tr>\n",
              "      <th>60754</th>\n",
              "      <td>-0.358219</td>\n",
              "      <td>-0.654749</td>\n",
              "      <td>-0.010113</td>\n",
              "      <td>-0.008346</td>\n",
              "      <td>-0.074159</td>\n",
              "      <td>-0.007515</td>\n",
              "      <td>-0.305745</td>\n",
              "      <td>0.665334</td>\n",
              "      <td>-0.073301</td>\n",
              "      <td>-0.366591</td>\n",
              "      <td>...</td>\n",
              "      <td>-0.131646</td>\n",
              "      <td>-0.100396</td>\n",
              "      <td>-0.14867</td>\n",
              "      <td>-0.104366</td>\n",
              "      <td>-0.579979</td>\n",
              "      <td>-0.105686</td>\n",
              "      <td>-0.58524</td>\n",
              "      <td>-0.57078</td>\n",
              "      <td>0</td>\n",
              "      <td>999</td>\n",
              "    </tr>\n",
              "    <tr>\n",
              "      <th>643105</th>\n",
              "      <td>-0.358219</td>\n",
              "      <td>-0.654749</td>\n",
              "      <td>-0.010113</td>\n",
              "      <td>-0.008346</td>\n",
              "      <td>-0.073835</td>\n",
              "      <td>-0.007514</td>\n",
              "      <td>-0.304088</td>\n",
              "      <td>0.684915</td>\n",
              "      <td>-0.066958</td>\n",
              "      <td>-0.366591</td>\n",
              "      <td>...</td>\n",
              "      <td>-0.131646</td>\n",
              "      <td>-0.100396</td>\n",
              "      <td>-0.14867</td>\n",
              "      <td>-0.104366</td>\n",
              "      <td>-0.579979</td>\n",
              "      <td>-0.105686</td>\n",
              "      <td>-0.58524</td>\n",
              "      <td>-0.57078</td>\n",
              "      <td>0</td>\n",
              "      <td>999</td>\n",
              "    </tr>\n",
              "  </tbody>\n",
              "</table>\n",
              "<p>5442 rows × 80 columns</p>\n",
              "</div>\n",
              "      <button class=\"colab-df-convert\" onclick=\"convertToInteractive('df-aca23f95-8bb7-4240-b9a8-c2cf54f75df3')\"\n",
              "              title=\"Convert this dataframe to an interactive table.\"\n",
              "              style=\"display:none;\">\n",
              "        \n",
              "  <svg xmlns=\"http://www.w3.org/2000/svg\" height=\"24px\"viewBox=\"0 0 24 24\"\n",
              "       width=\"24px\">\n",
              "    <path d=\"M0 0h24v24H0V0z\" fill=\"none\"/>\n",
              "    <path d=\"M18.56 5.44l.94 2.06.94-2.06 2.06-.94-2.06-.94-.94-2.06-.94 2.06-2.06.94zm-11 1L8.5 8.5l.94-2.06 2.06-.94-2.06-.94L8.5 2.5l-.94 2.06-2.06.94zm10 10l.94 2.06.94-2.06 2.06-.94-2.06-.94-.94-2.06-.94 2.06-2.06.94z\"/><path d=\"M17.41 7.96l-1.37-1.37c-.4-.4-.92-.59-1.43-.59-.52 0-1.04.2-1.43.59L10.3 9.45l-7.72 7.72c-.78.78-.78 2.05 0 2.83L4 21.41c.39.39.9.59 1.41.59.51 0 1.02-.2 1.41-.59l7.78-7.78 2.81-2.81c.8-.78.8-2.07 0-2.86zM5.41 20L4 18.59l7.72-7.72 1.47 1.35L5.41 20z\"/>\n",
              "  </svg>\n",
              "      </button>\n",
              "      \n",
              "  <style>\n",
              "    .colab-df-container {\n",
              "      display:flex;\n",
              "      flex-wrap:wrap;\n",
              "      gap: 12px;\n",
              "    }\n",
              "\n",
              "    .colab-df-convert {\n",
              "      background-color: #E8F0FE;\n",
              "      border: none;\n",
              "      border-radius: 50%;\n",
              "      cursor: pointer;\n",
              "      display: none;\n",
              "      fill: #1967D2;\n",
              "      height: 32px;\n",
              "      padding: 0 0 0 0;\n",
              "      width: 32px;\n",
              "    }\n",
              "\n",
              "    .colab-df-convert:hover {\n",
              "      background-color: #E2EBFA;\n",
              "      box-shadow: 0px 1px 2px rgba(60, 64, 67, 0.3), 0px 1px 3px 1px rgba(60, 64, 67, 0.15);\n",
              "      fill: #174EA6;\n",
              "    }\n",
              "\n",
              "    [theme=dark] .colab-df-convert {\n",
              "      background-color: #3B4455;\n",
              "      fill: #D2E3FC;\n",
              "    }\n",
              "\n",
              "    [theme=dark] .colab-df-convert:hover {\n",
              "      background-color: #434B5C;\n",
              "      box-shadow: 0px 1px 3px 1px rgba(0, 0, 0, 0.15);\n",
              "      filter: drop-shadow(0px 1px 2px rgba(0, 0, 0, 0.3));\n",
              "      fill: #FFFFFF;\n",
              "    }\n",
              "  </style>\n",
              "\n",
              "      <script>\n",
              "        const buttonEl =\n",
              "          document.querySelector('#df-aca23f95-8bb7-4240-b9a8-c2cf54f75df3 button.colab-df-convert');\n",
              "        buttonEl.style.display =\n",
              "          google.colab.kernel.accessAllowed ? 'block' : 'none';\n",
              "\n",
              "        async function convertToInteractive(key) {\n",
              "          const element = document.querySelector('#df-aca23f95-8bb7-4240-b9a8-c2cf54f75df3');\n",
              "          const dataTable =\n",
              "            await google.colab.kernel.invokeFunction('convertToInteractive',\n",
              "                                                     [key], {});\n",
              "          if (!dataTable) return;\n",
              "\n",
              "          const docLinkHtml = 'Like what you see? Visit the ' +\n",
              "            '<a target=\"_blank\" href=https://colab.research.google.com/notebooks/data_table.ipynb>data table notebook</a>'\n",
              "            + ' to learn more about interactive tables.';\n",
              "          element.innerHTML = '';\n",
              "          dataTable['output_type'] = 'display_data';\n",
              "          await google.colab.output.renderOutput(dataTable, element);\n",
              "          const docLink = document.createElement('div');\n",
              "          docLink.innerHTML = docLinkHtml;\n",
              "          element.appendChild(docLink);\n",
              "        }\n",
              "      </script>\n",
              "    </div>\n",
              "  </div>\n",
              "  "
            ],
            "text/plain": [
              "        Destination Port  Flow Duration  Total Fwd Packets  \\\n",
              "432628         -0.358219      -0.654749          -0.010113   \n",
              "502368         -0.358219      -0.654749          -0.010113   \n",
              "565162         -0.358219      -0.654748          -0.010113   \n",
              "497960         -0.358219      -0.654749          -0.010113   \n",
              "541585         -0.358219      -0.654749          -0.010113   \n",
              "...                  ...            ...                ...   \n",
              "592331         -0.358219      -0.654749          -0.010113   \n",
              "475636         -0.358219      -0.654750          -0.010113   \n",
              "569057         -0.358219      -0.654749          -0.010113   \n",
              "60754          -0.358219      -0.654749          -0.010113   \n",
              "643105         -0.358219      -0.654749          -0.010113   \n",
              "\n",
              "        Total Backward Packets  Total Length of Fwd Packets  \\\n",
              "432628               -0.008346                    -0.079351   \n",
              "502368               -0.008346                    -0.079351   \n",
              "565162               -0.008346                    -0.079676   \n",
              "497960               -0.008346                    -0.079676   \n",
              "541585               -0.008346                    -0.079676   \n",
              "...                        ...                          ...   \n",
              "592331               -0.008346                    -0.072861   \n",
              "475636               -0.008346                    -0.074159   \n",
              "569057               -0.008346                    -0.074808   \n",
              "60754                -0.008346                    -0.074159   \n",
              "643105               -0.008346                    -0.073835   \n",
              "\n",
              "        Total Length of Bwd Packets  Fwd Packet Length Max  \\\n",
              "432628                    -0.007521              -0.332246   \n",
              "502368                    -0.007526              -0.332246   \n",
              "565162                    -0.007520              -0.333902   \n",
              "497960                    -0.007530              -0.333902   \n",
              "541585                    -0.007530              -0.333902   \n",
              "...                             ...                    ...   \n",
              "592331                    -0.007522              -0.299119   \n",
              "475636                    -0.007526              -0.305745   \n",
              "569057                    -0.007527              -0.309057   \n",
              "60754                     -0.007515              -0.305745   \n",
              "643105                    -0.007514              -0.304088   \n",
              "\n",
              "        Fwd Packet Length Min  Fwd Packet Length Mean  Fwd Packet Length Std  \\\n",
              "432628               0.352031               -0.174796              -0.366591   \n",
              "502368               0.352031               -0.174796              -0.366591   \n",
              "565162               0.332450               -0.181139              -0.366591   \n",
              "497960               0.332450               -0.181139              -0.366591   \n",
              "541585               0.332450               -0.181139              -0.366591   \n",
              "...                       ...                     ...                    ...   \n",
              "592331               0.743659               -0.047927              -0.366591   \n",
              "475636               0.665334               -0.073301              -0.366591   \n",
              "569057               0.626171               -0.085988              -0.366591   \n",
              "60754                0.665334               -0.073301              -0.366591   \n",
              "643105               0.684915               -0.066958              -0.366591   \n",
              "\n",
              "        ...  Active Mean  Active Std  Active Max  Active Min  Idle Mean  \\\n",
              "432628  ...    -0.131646   -0.100396    -0.14867   -0.104366  -0.579979   \n",
              "502368  ...    -0.131646   -0.100396    -0.14867   -0.104366  -0.579979   \n",
              "565162  ...    -0.131646   -0.100396    -0.14867   -0.104366  -0.579979   \n",
              "497960  ...    -0.131646   -0.100396    -0.14867   -0.104366  -0.579979   \n",
              "541585  ...    -0.131646   -0.100396    -0.14867   -0.104366  -0.579979   \n",
              "...     ...          ...         ...         ...         ...        ...   \n",
              "592331  ...    -0.131646   -0.100396    -0.14867   -0.104366  -0.579979   \n",
              "475636  ...    -0.131646   -0.100396    -0.14867   -0.104366  -0.579979   \n",
              "569057  ...    -0.131646   -0.100396    -0.14867   -0.104366  -0.579979   \n",
              "60754   ...    -0.131646   -0.100396    -0.14867   -0.104366  -0.579979   \n",
              "643105  ...    -0.131646   -0.100396    -0.14867   -0.104366  -0.579979   \n",
              "\n",
              "        Idle Std  Idle Max  Idle Min  Label  klabel  \n",
              "432628 -0.105686  -0.58524  -0.57078      0       0  \n",
              "502368 -0.105686  -0.58524  -0.57078      0       0  \n",
              "565162 -0.105686  -0.58524  -0.57078      0       0  \n",
              "497960 -0.105686  -0.58524  -0.57078      0       0  \n",
              "541585 -0.105686  -0.58524  -0.57078      0       0  \n",
              "...          ...       ...       ...    ...     ...  \n",
              "592331 -0.105686  -0.58524  -0.57078      0     999  \n",
              "475636 -0.105686  -0.58524  -0.57078      0     999  \n",
              "569057 -0.105686  -0.58524  -0.57078      0     999  \n",
              "60754  -0.105686  -0.58524  -0.57078      0     999  \n",
              "643105 -0.105686  -0.58524  -0.57078      0     999  \n",
              "\n",
              "[5442 rows x 80 columns]"
            ]
          },
          "execution_count": 22,
          "metadata": {},
          "output_type": "execute_result"
        }
      ],
      "source": [
        "result"
      ]
    },
    {
      "cell_type": "code",
      "execution_count": null,
      "metadata": {
        "id": "JD6o6X8JscM1"
      },
      "outputs": [],
      "source": [
        "result = result.drop(['klabel'],axis=1)\n",
        "result = result.append(df_minor)"
      ]
    },
    {
      "cell_type": "code",
      "execution_count": null,
      "metadata": {
        "id": "r8b5xsgYsc9O"
      },
      "outputs": [],
      "source": [
        "result.to_csv('/content/drive/MyDrive/Intrusion-Detection-System-Using-Machine-Learning-main/data/CICIDS2017_sample_km.csv',index=0)\n"
      ]
    },
    {
      "cell_type": "code",
      "execution_count": null,
      "metadata": {
        "id": "F4kBqNZwsfdP"
      },
      "outputs": [],
      "source": [
        "# Read the sampled dataset\n",
        "df=pd.read_csv('/content/drive/MyDrive/Intrusion-Detection-System-Using-Machine-Learning-main/data/CICIDS2017_sample_km.csv')"
      ]
    },
    {
      "cell_type": "code",
      "execution_count": null,
      "metadata": {
        "id": "KQQIL2cRshr9"
      },
      "outputs": [],
      "source": [
        "X = df.drop(['Label'],axis=1).values\n",
        "y = df.iloc[:, -1].values.reshape(-1,1)\n",
        "y=np.ravel(y)"
      ]
    },
    {
      "cell_type": "code",
      "execution_count": null,
      "metadata": {
        "id": "mkId2l_esmlN"
      },
      "outputs": [],
      "source": [
        "X_train, X_test, y_train, y_test = train_test_split(X,y, train_size = 0.8, test_size = 0.2, random_state = 0,stratify = y)"
      ]
    },
    {
      "cell_type": "code",
      "execution_count": null,
      "metadata": {
        "id": "a5dZG1m0srxF"
      },
      "outputs": [],
      "source": [
        "from sklearn.feature_selection import mutual_info_classif\n",
        "importances = mutual_info_classif(X_train, y_train)"
      ]
    },
    {
      "cell_type": "code",
      "execution_count": null,
      "metadata": {
        "id": "wS4s5PRbsviU"
      },
      "outputs": [],
      "source": [
        "f_list = sorted(zip(map(lambda x: round(x, 4), importances), features), reverse=True)\n",
        "Sum = 0\n",
        "fs = []\n",
        "for i in range(0, len(f_list)):\n",
        "    Sum = Sum + f_list[i][0]\n",
        "    fs.append(f_list[i][1])"
      ]
    },
    {
      "cell_type": "code",
      "execution_count": null,
      "metadata": {
        "id": "j1z7lxD6syN-"
      },
      "outputs": [],
      "source": [
        "f_list2 = sorted(zip(map(lambda x: round(x, 4), importances/Sum), features), reverse=True)\n",
        "Sum2 = 0\n",
        "fs = []\n",
        "for i in range(0, len(f_list2)):\n",
        "    Sum2 = Sum2 + f_list2[i][0]\n",
        "    fs.append(f_list2[i][1])\n",
        "    if Sum2>=0.9:\n",
        "        break    "
      ]
    },
    {
      "cell_type": "code",
      "execution_count": null,
      "metadata": {
        "id": "wq2dc19Js0oj"
      },
      "outputs": [],
      "source": [
        "X_fs = df[fs].values"
      ]
    },
    {
      "cell_type": "code",
      "execution_count": null,
      "metadata": {
        "colab": {
          "base_uri": "https://localhost:8080/"
        },
        "id": "MP-f3GLys30n",
        "outputId": "89ce44c2-fb40-4d6d-a350-3ba6795aa50b"
      },
      "outputs": [
        {
          "data": {
            "text/plain": [
              "(16748, 47)"
            ]
          },
          "execution_count": 32,
          "metadata": {},
          "output_type": "execute_result"
        }
      ],
      "source": [
        "X_fs.shape"
      ]
    },
    {
      "cell_type": "code",
      "execution_count": null,
      "metadata": {
        "id": "KzCe96W4s6-y"
      },
      "outputs": [],
      "source": [
        "from FCBF_module import FCBF, FCBFK, FCBFiP, get_i\n",
        "fcbf = FCBFK(k = 20)\n",
        "#fcbf.fit(X_fs, y)"
      ]
    },
    {
      "cell_type": "code",
      "execution_count": null,
      "metadata": {
        "id": "yG-ESo2Is750"
      },
      "outputs": [],
      "source": [
        "X_fss = fcbf.fit_transform(X_fs,y)"
      ]
    },
    {
      "cell_type": "code",
      "execution_count": null,
      "metadata": {
        "colab": {
          "base_uri": "https://localhost:8080/"
        },
        "id": "HNcttGf0s--p",
        "outputId": "9cd92815-dfcd-4f22-aff4-bd2669d24b61"
      },
      "outputs": [
        {
          "data": {
            "text/plain": [
              "(16748, 20)"
            ]
          },
          "execution_count": 35,
          "metadata": {},
          "output_type": "execute_result"
        }
      ],
      "source": [
        "X_fss.shape"
      ]
    },
    {
      "cell_type": "code",
      "execution_count": null,
      "metadata": {
        "id": "Zr0JJoA7tB-_"
      },
      "outputs": [],
      "source": [
        "X_train, X_test, y_train, y_test = train_test_split(X_fss,y, train_size = 0.8, test_size = 0.2, random_state = 0,stratify = y)"
      ]
    },
    {
      "cell_type": "code",
      "execution_count": null,
      "metadata": {
        "colab": {
          "base_uri": "https://localhost:8080/"
        },
        "id": "CkRePRQOtJFY",
        "outputId": "90fd3060-aa65-491c-bc32-d789aab45ec5"
      },
      "outputs": [
        {
          "data": {
            "text/plain": [
              "(13398, 20)"
            ]
          },
          "execution_count": 37,
          "metadata": {},
          "output_type": "execute_result"
        }
      ],
      "source": [
        "X_train.shape"
      ]
    },
    {
      "cell_type": "code",
      "execution_count": null,
      "metadata": {
        "colab": {
          "base_uri": "https://localhost:8080/"
        },
        "id": "4Hg_DgMOtLMD",
        "outputId": "2d43af18-02c5-4cab-9be8-47b060ef690b"
      },
      "outputs": [
        {
          "data": {
            "text/plain": [
              "4    4637\n",
              "3    4399\n",
              "0    2805\n",
              "2    1478\n",
              "1      70\n",
              "5       9\n",
              "dtype: int64"
            ]
          },
          "execution_count": 38,
          "metadata": {},
          "output_type": "execute_result"
        }
      ],
      "source": [
        "pd.Series(y_train).value_counts()"
      ]
    },
    {
      "cell_type": "code",
      "execution_count": null,
      "metadata": {
        "id": "Iac_L5ARtNy-"
      },
      "outputs": [],
      "source": [
        "from imblearn.over_sampling import SMOTE\n",
        "smote=SMOTE(n_jobs=-1,sampling_strategy={1:4637,5:4637})"
      ]
    },
    {
      "cell_type": "code",
      "execution_count": null,
      "metadata": {
        "id": "P0QbpflytTCH"
      },
      "outputs": [],
      "source": [
        "X_train, y_train = smote.fit_resample(X_train, y_train)"
      ]
    },
    {
      "cell_type": "code",
      "execution_count": null,
      "metadata": {
        "colab": {
          "base_uri": "https://localhost:8080/"
        },
        "id": "9YYa7QfrtVQ6",
        "outputId": "7a1294d6-1fe6-4790-9627-0d2cebcc2b0e"
      },
      "outputs": [
        {
          "data": {
            "text/plain": [
              "4    4637\n",
              "1    4637\n",
              "5    4637\n",
              "3    4399\n",
              "0    2805\n",
              "2    1478\n",
              "dtype: int64"
            ]
          },
          "execution_count": 41,
          "metadata": {},
          "output_type": "execute_result"
        }
      ],
      "source": [
        "pd.Series(y_train).value_counts()"
      ]
    },
    {
      "cell_type": "code",
      "execution_count": null,
      "metadata": {
        "colab": {
          "base_uri": "https://localhost:8080/",
          "height": 856
        },
        "id": "RHWptawntYAT",
        "outputId": "052add4e-5a45-4189-94e5-639117347928"
      },
      "outputs": [
        {
          "name": "stdout",
          "output_type": "stream",
          "text": [
            "Accuracy of XGBoost: 0.9940298507462687\n",
            "Precision of XGBoost: 0.9947643510024166\n",
            "Recall of XGBoost: 0.9940298507462687\n",
            "F1-score of XGBoost: 0.9942421776065297\n",
            "              precision    recall  f1-score   support\n",
            "\n",
            "           0       0.99      1.00      0.99       701\n",
            "           1       0.69      1.00      0.82        18\n",
            "           2       0.99      0.99      0.99       370\n",
            "           3       1.00      0.99      1.00      1100\n",
            "           4       1.00      0.99      1.00      1159\n",
            "           5       1.00      1.00      1.00         2\n",
            "\n",
            "    accuracy                           0.99      3350\n",
            "   macro avg       0.95      1.00      0.97      3350\n",
            "weighted avg       0.99      0.99      0.99      3350\n",
            "\n"
          ]
        },
        {
          "data": {
            "image/png": "[encoded data removed]",
            "text/plain": [
              "<Figure size 600x600 with 2 Axes>"
            ]
          },
          "metadata": {},
          "output_type": "display_data"
        }
      ],
      "source": [
        "xg = xgb.XGBClassifier(n_estimators = 10)\n",
        "xg.fit(X_train,y_train)\n",
        "xg_score=xg.score(X_test,y_test)\n",
        "y_predict=xg.predict(X_test)\n",
        "y_true=y_test\n",
        "print('Accuracy of XGBoost: '+ str(xg_score))\n",
        "precision,recall,fscore,none= precision_recall_fscore_support(y_true, y_predict, average='weighted') \n",
        "print('Precision of XGBoost: '+(str(precision)))\n",
        "print('Recall of XGBoost: '+(str(recall)))\n",
        "print('F1-score of XGBoost: '+(str(fscore)))\n",
        "print(classification_report(y_true,y_predict))\n",
        "cm=confusion_matrix(y_true,y_predict)\n",
        "f,ax=plt.subplots(figsize=(6,6))\n",
        "sns.heatmap(cm,annot=True,linewidth=0.5,linecolor=\"red\",fmt=\".0f\",ax=ax)\n",
        "plt.xlabel(\"y_pred\")\n",
        "plt.ylabel(\"y_true\")\n",
        "plt.show()"
      ]
    },
    {
      "cell_type": "code",
      "execution_count": null,
      "metadata": {
        "colab": {
          "background_save": true,
          "base_uri": "https://localhost:8080/"
        },
        "id": "tO4s-wEUtdoe",
        "outputId": "3671b9f0-bbc0-49a0-bd6e-12f45947b562"
      },
      "outputs": [
        {
          "name": "stdout",
          "output_type": "stream",
          "text": [
            "100%|██████████| 20/20 [02:25<00:00,  7.27s/trial, best loss: -0.9970149253731343]\n",
            "XGBoost: Hyperopt estimated optimum {'learning_rate': -0.8657220153560546, 'max_depth': 83.0, 'n_estimators': 65.0}\n"
          ]
        }
      ],
      "source": [
        "from hyperopt import hp, fmin, tpe, STATUS_OK, Trials\n",
        "from sklearn.model_selection import cross_val_score, StratifiedKFold\n",
        "def objective(params):\n",
        "    params = {\n",
        "        'n_estimators': int(params['n_estimators']), \n",
        "        'max_depth': int(params['max_depth']),\n",
        "        'learning_rate':  abs(float(params['learning_rate'])),\n",
        "\n",
        "    }\n",
        "    clf = xgb.XGBClassifier( **params)\n",
        "    clf.fit(X_train, y_train)\n",
        "    y_pred = clf.predict(X_test)\n",
        "    score = accuracy_score(y_test, y_pred)\n",
        "\n",
        "    return {'loss':-score, 'status': STATUS_OK }\n",
        "\n",
        "space = {\n",
        "    'n_estimators': hp.quniform('n_estimators', 10, 100, 5),\n",
        "    'max_depth': hp.quniform('max_depth', 4, 100, 1),\n",
        "    'learning_rate': hp.normal('learning_rate', 0.01, 0.9),\n",
        "}\n",
        "\n",
        "best = fmin(fn=objective,\n",
        "            space=space,\n",
        "            algo=tpe.suggest,\n",
        "            max_evals=20)\n",
        "print(\"XGBoost: Hyperopt estimated optimum {}\".format(best))"
      ]
    },
    {
      "cell_type": "code",
      "execution_count": null,
      "metadata": {
        "colab": {
          "background_save": true
        },
        "id": "gk-gififtkTF",
        "outputId": "f45e0da9-7442-4272-a598-14c6ec255578"
      },
      "outputs": [
        {
          "name": "stdout",
          "output_type": "stream",
          "text": [
            "Accuracy of XGBoost: 0.9967164179104477\n",
            "Precision of XGBoost: 0.9967168787313287\n",
            "Recall of XGBoost: 0.9967164179104477\n",
            "F1-score of XGBoost: 0.9967164747054857\n",
            "              precision    recall  f1-score   support\n",
            "\n",
            "           0       1.00      1.00      1.00       701\n",
            "           1       1.00      1.00      1.00        18\n",
            "           2       1.00      1.00      1.00       370\n",
            "           3       1.00      1.00      1.00      1100\n",
            "           4       1.00      1.00      1.00      1159\n",
            "           5       1.00      1.00      1.00         2\n",
            "\n",
            "    accuracy                           1.00      3350\n",
            "   macro avg       1.00      1.00      1.00      3350\n",
            "weighted avg       1.00      1.00      1.00      3350\n",
            "\n"
          ]
        },
        {
          "data": {
            "image/png": "[encoded data removed]",
            "text/plain": [
              "<Figure size 500x500 with 2 Axes>"
            ]
          },
          "metadata": {},
          "output_type": "display_data"
        }
      ],
      "source": [
        "xg = xgb.XGBClassifier(learning_rate= 0.7340229699980686, n_estimators = 70, max_depth = 14)\n",
        "xg.fit(X_train,y_train)\n",
        "xg_score=xg.score(X_test,y_test)\n",
        "y_predict=xg.predict(X_test)\n",
        "y_true=y_test\n",
        "print('Accuracy of XGBoost: '+ str(xg_score))\n",
        "precision,recall,fscore,none= precision_recall_fscore_support(y_true, y_predict, average='weighted') \n",
        "print('Precision of XGBoost: '+(str(precision)))\n",
        "print('Recall of XGBoost: '+(str(recall)))\n",
        "print('F1-score of XGBoost: '+(str(fscore)))\n",
        "print(classification_report(y_true,y_predict))\n",
        "cm=confusion_matrix(y_true,y_predict)\n",
        "f,ax=plt.subplots(figsize=(5,5))\n",
        "sns.heatmap(cm,annot=True,linewidth=0.5,linecolor=\"red\",fmt=\".0f\",ax=ax)\n",
        "plt.xlabel(\"y_pred\")\n",
        "plt.ylabel(\"y_true\")\n",
        "plt.show()\n"
      ]
    },
    {
      "cell_type": "code",
      "execution_count": null,
      "metadata": {
        "colab": {
          "background_save": true
        },
        "id": "MXJ7P0RDtprj"
      },
      "outputs": [],
      "source": [
        "xg_train=xg.predict(X_train)\n",
        "xg_test=xg.predict(X_test)"
      ]
    },
    {
      "cell_type": "code",
      "execution_count": null,
      "metadata": {
        "colab": {
          "background_save": true
        },
        "id": "Lcf33dYAttBK",
        "outputId": "c68eb824-cb8d-4da6-f4dd-79eac0100de9"
      },
      "outputs": [
        {
          "name": "stdout",
          "output_type": "stream",
          "text": [
            "Accuracy of RF: 0.9970149253731343\n",
            "Precision of RF: 0.9970187926610734\n",
            "Recall of RF: 0.9970149253731343\n",
            "F1-score of RF: 0.9970157612686112\n",
            "              precision    recall  f1-score   support\n",
            "\n",
            "           0       0.99      1.00      1.00       701\n",
            "           1       1.00      1.00      1.00        18\n",
            "           2       1.00      1.00      1.00       370\n",
            "           3       1.00      1.00      1.00      1100\n",
            "           4       1.00      1.00      1.00      1159\n",
            "           5       1.00      1.00      1.00         2\n",
            "\n",
            "    accuracy                           1.00      3350\n",
            "   macro avg       1.00      1.00      1.00      3350\n",
            "weighted avg       1.00      1.00      1.00      3350\n",
            "\n"
          ]
        },
        {
          "data": {
            "image/png": "[encoded data removed]",
            "text/plain": [
              "<Figure size 500x500 with 2 Axes>"
            ]
          },
          "metadata": {},
          "output_type": "display_data"
        }
      ],
      "source": [
        "rf = RandomForestClassifier(random_state = 0)\n",
        "rf.fit(X_train,y_train) \n",
        "rf_score=rf.score(X_test,y_test)\n",
        "y_predict=rf.predict(X_test)\n",
        "y_true=y_test\n",
        "print('Accuracy of RF: '+ str(rf_score))\n",
        "precision,recall,fscore,none= precision_recall_fscore_support(y_true, y_predict, average='weighted') \n",
        "print('Precision of RF: '+(str(precision)))\n",
        "print('Recall of RF: '+(str(recall)))\n",
        "print('F1-score of RF: '+(str(fscore)))\n",
        "print(classification_report(y_true,y_predict))\n",
        "cm=confusion_matrix(y_true,y_predict)\n",
        "f,ax=plt.subplots(figsize=(5,5))\n",
        "sns.heatmap(cm,annot=True,linewidth=0.5,linecolor=\"red\",fmt=\".0f\",ax=ax)\n",
        "plt.xlabel(\"y_pred\")\n",
        "plt.ylabel(\"y_true\")\n",
        "plt.show()"
      ]
    },
    {
      "cell_type": "code",
      "execution_count": null,
      "metadata": {
        "colab": {
          "background_save": true
        },
        "id": "Mf_dpjcFtw99",
        "outputId": "9b8c19ae-94e5-4efa-eda5-d13cd748fb8e"
      },
      "outputs": [
        {
          "name": "stdout",
          "output_type": "stream",
          "text": [
            "100%|██████████| 20/20 [01:56<00:00,  5.85s/trial, best loss: -0.9964179104477612]\n",
            "Random Forest: Hyperopt estimated optimum {'criterion': 1, 'max_depth': 13.0, 'max_features': 3.0, 'min_samples_leaf': 1.0, 'min_samples_split': 3.0, 'n_estimators': 64.0}\n"
          ]
        }
      ],
      "source": [
        "from hyperopt import hp, fmin, tpe, STATUS_OK, Trials\n",
        "from sklearn.model_selection import cross_val_score, StratifiedKFold\n",
        "# Define the objective function\n",
        "def objective(params):\n",
        "    params = {\n",
        "        'n_estimators': int(params['n_estimators']), \n",
        "        'max_depth': int(params['max_depth']),\n",
        "        'max_features': int(params['max_features']),\n",
        "        \"min_samples_split\":int(params['min_samples_split']),\n",
        "        \"min_samples_leaf\":int(params['min_samples_leaf']),\n",
        "        \"criterion\":str(params['criterion'])\n",
        "    }\n",
        "    clf = RandomForestClassifier( **params)\n",
        "    clf.fit(X_train,y_train)\n",
        "    score=clf.score(X_test,y_test)\n",
        "\n",
        "    return {'loss':-score, 'status': STATUS_OK }\n",
        "# Define the hyperparameter configuration space\n",
        "space = {\n",
        "    'n_estimators': hp.quniform('n_estimators', 10, 200, 1),\n",
        "    'max_depth': hp.quniform('max_depth', 5, 50, 1),\n",
        "    \"max_features\":hp.quniform('max_features', 1, 20, 1),\n",
        "    \"min_samples_split\":hp.quniform('min_samples_split',2,11,1),\n",
        "    \"min_samples_leaf\":hp.quniform('min_samples_leaf',1,11,1),\n",
        "    \"criterion\":hp.choice('criterion',['gini','entropy'])\n",
        "}\n",
        "\n",
        "best = fmin(fn=objective,\n",
        "            space=space,\n",
        "            algo=tpe.suggest,\n",
        "            max_evals=20)\n",
        "print(\"Random Forest: Hyperopt estimated optimum {}\".format(best))"
      ]
    },
    {
      "cell_type": "code",
      "execution_count": null,
      "metadata": {
        "colab": {
          "background_save": true
        },
        "id": "z0M2eK-rt2Y-",
        "outputId": "618e6863-160f-4f03-d511-a7cfc38bd70e"
      },
      "outputs": [
        {
          "name": "stdout",
          "output_type": "stream",
          "text": [
            "Accuracy of RF: 0.9940298507462687\n",
            "Precision of RF: 0.9940706483603963\n",
            "Recall of RF: 0.9940298507462687\n",
            "F1-score of RF: 0.9940371009165322\n",
            "              precision    recall  f1-score   support\n",
            "\n",
            "           0       0.99      1.00      0.99       701\n",
            "           1       0.95      1.00      0.97        18\n",
            "           2       1.00      0.99      0.99       370\n",
            "           3       1.00      0.99      1.00      1100\n",
            "           4       0.99      0.99      0.99      1159\n",
            "           5       1.00      1.00      1.00         2\n",
            "\n",
            "    accuracy                           0.99      3350\n",
            "   macro avg       0.99      1.00      0.99      3350\n",
            "weighted avg       0.99      0.99      0.99      3350\n",
            "\n"
          ]
        },
        {
          "data": {
            "image/png": "[encoded data removed]",
            "text/plain": [
              "<Figure size 500x500 with 2 Axes>"
            ]
          },
          "metadata": {},
          "output_type": "display_data"
        }
      ],
      "source": [
        "rf_hpo = RandomForestClassifier(n_estimators = 71, min_samples_leaf = 1, max_depth = 46, min_samples_split = 9, max_features = 20, criterion = 'entropy')\n",
        "rf_hpo.fit(X_train,y_train)\n",
        "rf_score=rf_hpo.score(X_test,y_test)\n",
        "y_predict=rf_hpo.predict(X_test)\n",
        "y_true=y_test\n",
        "print('Accuracy of RF: '+ str(rf_score))\n",
        "precision,recall,fscore,none= precision_recall_fscore_support(y_true, y_predict, average='weighted') \n",
        "print('Precision of RF: '+(str(precision)))\n",
        "print('Recall of RF: '+(str(recall)))\n",
        "print('F1-score of RF: '+(str(fscore)))\n",
        "print(classification_report(y_true,y_predict))\n",
        "cm=confusion_matrix(y_true,y_predict)\n",
        "f,ax=plt.subplots(figsize=(5,5))\n",
        "sns.heatmap(cm,annot=True,linewidth=0.5,linecolor=\"red\",fmt=\".0f\",ax=ax)\n",
        "plt.xlabel(\"y_pred\")\n",
        "plt.ylabel(\"y_true\")\n",
        "plt.show()"
      ]
    },
    {
      "cell_type": "code",
      "execution_count": null,
      "metadata": {
        "colab": {
          "background_save": true
        },
        "id": "iTj4ihzYt69H"
      },
      "outputs": [],
      "source": [
        "rf_train=rf_hpo.predict(X_train)\n",
        "rf_test=rf_hpo.predict(X_test)"
      ]
    },
    {
      "cell_type": "code",
      "execution_count": null,
      "metadata": {
        "colab": {
          "background_save": true
        },
        "id": "aeZ4FS9rt_BW",
        "outputId": "fc85c885-a3af-4720-9530-c9b88ee0b817"
      },
      "outputs": [
        {
          "name": "stdout",
          "output_type": "stream",
          "text": [
            "Accuracy of DT: 0.9934328358208955\n",
            "Precision of DT: 0.9934979875035391\n",
            "Recall of DT: 0.9934328358208955\n",
            "F1-score of DT: 0.9934483526430126\n",
            "              precision    recall  f1-score   support\n",
            "\n",
            "           0       0.99      0.99      0.99       701\n",
            "           1       0.90      1.00      0.95        18\n",
            "           2       0.99      0.99      0.99       370\n",
            "           3       1.00      0.99      1.00      1100\n",
            "           4       0.99      1.00      0.99      1159\n",
            "           5       1.00      1.00      1.00         2\n",
            "\n",
            "    accuracy                           0.99      3350\n",
            "   macro avg       0.98      0.99      0.99      3350\n",
            "weighted avg       0.99      0.99      0.99      3350\n",
            "\n"
          ]
        },
        {
          "data": {
            "image/png": "[encoded data removed]",
            "text/plain": [
              "<Figure size 500x500 with 2 Axes>"
            ]
          },
          "metadata": {},
          "output_type": "display_data"
        }
      ],
      "source": [
        "dt = DecisionTreeClassifier(random_state = 0)\n",
        "dt.fit(X_train,y_train) \n",
        "dt_score=dt.score(X_test,y_test)\n",
        "y_predict=dt.predict(X_test)\n",
        "y_true=y_test\n",
        "print('Accuracy of DT: '+ str(dt_score))\n",
        "precision,recall,fscore,none= precision_recall_fscore_support(y_true, y_predict, average='weighted') \n",
        "print('Precision of DT: '+(str(precision)))\n",
        "print('Recall of DT: '+(str(recall)))\n",
        "print('F1-score of DT: '+(str(fscore)))\n",
        "print(classification_report(y_true,y_predict))\n",
        "cm=confusion_matrix(y_true,y_predict)\n",
        "f,ax=plt.subplots(figsize=(5,5))\n",
        "sns.heatmap(cm,annot=True,linewidth=0.5,linecolor=\"red\",fmt=\".0f\",ax=ax)\n",
        "plt.xlabel(\"y_pred\")\n",
        "plt.ylabel(\"y_true\")\n",
        "plt.show()"
      ]
    },
    {
      "cell_type": "code",
      "execution_count": null,
      "metadata": {
        "colab": {
          "background_save": true
        },
        "id": "V97WBiYiuCK8",
        "outputId": "a9db3dcf-97ad-49b2-9566-c0f7eece3a34"
      },
      "outputs": [
        {
          "name": "stdout",
          "output_type": "stream",
          "text": [
            "100%|██████████| 50/50 [00:05<00:00,  9.03trial/s, best loss: -0.9964179104477612]\n",
            "Decision tree: Hyperopt estimated optimum {'criterion': 1, 'max_depth': 47.0, 'max_features': 17.0, 'min_samples_leaf': 2.0, 'min_samples_split': 7.0}\n"
          ]
        }
      ],
      "source": [
        "from hyperopt import hp, fmin, tpe, STATUS_OK, Trials\n",
        "from sklearn.model_selection import cross_val_score, StratifiedKFold\n",
        "# Define the objective function\n",
        "def objective(params):\n",
        "    params = {\n",
        "        'max_depth': int(params['max_depth']),\n",
        "        'max_features': int(params['max_features']),\n",
        "        \"min_samples_split\":int(params['min_samples_split']),\n",
        "        \"min_samples_leaf\":int(params['min_samples_leaf']),\n",
        "        \"criterion\":str(params['criterion'])\n",
        "    }\n",
        "    clf = DecisionTreeClassifier( **params)\n",
        "    clf.fit(X_train,y_train)\n",
        "    score=clf.score(X_test,y_test)\n",
        "\n",
        "    return {'loss':-score, 'status': STATUS_OK }\n",
        "# Define the hyperparameter configuration space\n",
        "space = {\n",
        "    'max_depth': hp.quniform('max_depth', 5, 50, 1),\n",
        "    \"max_features\":hp.quniform('max_features', 1, 20, 1),\n",
        "    \"min_samples_split\":hp.quniform('min_samples_split',2,11,1),\n",
        "    \"min_samples_leaf\":hp.quniform('min_samples_leaf',1,11,1),\n",
        "    \"criterion\":hp.choice('criterion',['gini','entropy'])\n",
        "}\n",
        "\n",
        "best = fmin(fn=objective,\n",
        "            space=space,\n",
        "            algo=tpe.suggest,\n",
        "            max_evals=50)\n",
        "print(\"Decision tree: Hyperopt estimated optimum {}\".format(best))"
      ]
    },
    {
      "cell_type": "code",
      "execution_count": null,
      "metadata": {
        "colab": {
          "background_save": true
        },
        "id": "bgHsVWxYuIPf",
        "outputId": "3d049d76-87ec-45a6-8aec-52efad86b22e"
      },
      "outputs": [
        {
          "name": "stdout",
          "output_type": "stream",
          "text": [
            "Accuracy of DT: 0.9940298507462687\n",
            "Precision of DT: 0.9940726482251175\n",
            "Recall of DT: 0.9940298507462687\n",
            "F1-score of DT: 0.9940387754862523\n",
            "              precision    recall  f1-score   support\n",
            "\n",
            "           0       0.99      1.00      0.99       701\n",
            "           1       0.95      1.00      0.97        18\n",
            "           2       0.99      0.99      0.99       370\n",
            "           3       1.00      0.99      1.00      1100\n",
            "           4       0.99      0.99      0.99      1159\n",
            "           5       1.00      1.00      1.00         2\n",
            "\n",
            "    accuracy                           0.99      3350\n",
            "   macro avg       0.99      1.00      0.99      3350\n",
            "weighted avg       0.99      0.99      0.99      3350\n",
            "\n"
          ]
        },
        {
          "data": {
            "image/png": "[encoded data removed]",
            "text/plain": [
              "<Figure size 500x500 with 2 Axes>"
            ]
          },
          "metadata": {},
          "output_type": "display_data"
        }
      ],
      "source": [
        "dt_hpo = DecisionTreeClassifier(min_samples_leaf = 2, max_depth = 47, min_samples_split = 3, max_features = 19, criterion = 'gini')\n",
        "dt_hpo.fit(X_train,y_train)\n",
        "dt_score=dt_hpo.score(X_test,y_test)\n",
        "y_predict=dt_hpo.predict(X_test)\n",
        "y_true=y_test\n",
        "print('Accuracy of DT: '+ str(dt_score))\n",
        "precision,recall,fscore,none= precision_recall_fscore_support(y_true, y_predict, average='weighted') \n",
        "print('Precision of DT: '+(str(precision)))\n",
        "print('Recall of DT: '+(str(recall)))\n",
        "print('F1-score of DT: '+(str(fscore)))\n",
        "print(classification_report(y_true,y_predict))\n",
        "cm=confusion_matrix(y_true,y_predict)\n",
        "f,ax=plt.subplots(figsize=(5,5))\n",
        "sns.heatmap(cm,annot=True,linewidth=0.5,linecolor=\"red\",fmt=\".0f\",ax=ax)\n",
        "plt.xlabel(\"y_pred\")\n",
        "plt.ylabel(\"y_true\")\n",
        "plt.show()"
      ]
    },
    {
      "cell_type": "code",
      "execution_count": null,
      "metadata": {
        "colab": {
          "background_save": true
        },
        "id": "TDcNK92ZuM0n"
      },
      "outputs": [],
      "source": [
        "dt_train=dt_hpo.predict(X_train)\n",
        "dt_test=dt_hpo.predict(X_test)"
      ]
    },
    {
      "cell_type": "code",
      "execution_count": null,
      "metadata": {
        "colab": {
          "background_save": true
        },
        "id": "d3JA45fmuMxI",
        "outputId": "0c86975e-c1f8-47ca-9144-d6b606c77322"
      },
      "outputs": [
        {
          "name": "stdout",
          "output_type": "stream",
          "text": [
            "Accuracy of ET: 0.9964179104477612\n",
            "Precision of ET: 0.9964391652734461\n",
            "Recall of ET: 0.9964179104477612\n",
            "F1-score of ET: 0.9964229541752592\n",
            "              precision    recall  f1-score   support\n",
            "\n",
            "           0       0.99      1.00      1.00       701\n",
            "           1       0.95      1.00      0.97        18\n",
            "           2       1.00      1.00      1.00       370\n",
            "           3       1.00      1.00      1.00      1100\n",
            "           4       1.00      1.00      1.00      1159\n",
            "           5       1.00      1.00      1.00         2\n",
            "\n",
            "    accuracy                           1.00      3350\n",
            "   macro avg       0.99      1.00      0.99      3350\n",
            "weighted avg       1.00      1.00      1.00      3350\n",
            "\n"
          ]
        },
        {
          "data": {
            "image/png": "[encoded data removed]",
            "text/plain": [
              "<Figure size 500x500 with 2 Axes>"
            ]
          },
          "metadata": {},
          "output_type": "display_data"
        }
      ],
      "source": [
        "et = ExtraTreesClassifier(random_state = 0)\n",
        "et.fit(X_train,y_train) \n",
        "et_score=et.score(X_test,y_test)\n",
        "y_predict=et.predict(X_test)\n",
        "y_true=y_test\n",
        "print('Accuracy of ET: '+ str(et_score))\n",
        "precision,recall,fscore,none= precision_recall_fscore_support(y_true, y_predict, average='weighted') \n",
        "print('Precision of ET: '+(str(precision)))\n",
        "print('Recall of ET: '+(str(recall)))\n",
        "print('F1-score of ET: '+(str(fscore)))\n",
        "print(classification_report(y_true,y_predict))\n",
        "cm=confusion_matrix(y_true,y_predict)\n",
        "f,ax=plt.subplots(figsize=(5,5))\n",
        "sns.heatmap(cm,annot=True,linewidth=0.5,linecolor=\"red\",fmt=\".0f\",ax=ax)\n",
        "plt.xlabel(\"y_pred\")\n",
        "plt.ylabel(\"y_true\")\n",
        "plt.show()"
      ]
    },
    {
      "cell_type": "code",
      "execution_count": null,
      "metadata": {
        "colab": {
          "background_save": true
        },
        "id": "bsuN2XWLuTyk",
        "outputId": "d36ad411-a3f6-481e-c753-80ee9d327c48"
      },
      "outputs": [
        {
          "name": "stdout",
          "output_type": "stream",
          "text": [
            "100%|██████████| 20/20 [00:20<00:00,  1.01s/trial, best loss: -0.9943283582089553]\n",
            "Random Forest: Hyperopt estimated optimum {'criterion': 0, 'max_depth': 19.0, 'max_features': 17.0, 'min_samples_leaf': 3.0, 'min_samples_split': 6.0, 'n_estimators': 67.0}\n"
          ]
        }
      ],
      "source": [
        "from hyperopt import hp, fmin, tpe, STATUS_OK, Trials\n",
        "from sklearn.model_selection import cross_val_score, StratifiedKFold\n",
        "# Define the objective function\n",
        "def objective(params):\n",
        "    params = {\n",
        "        'n_estimators': int(params['n_estimators']), \n",
        "        'max_depth': int(params['max_depth']),\n",
        "        'max_features': int(params['max_features']),\n",
        "        \"min_samples_split\":int(params['min_samples_split']),\n",
        "        \"min_samples_leaf\":int(params['min_samples_leaf']),\n",
        "        \"criterion\":str(params['criterion'])\n",
        "    }\n",
        "    clf = ExtraTreesClassifier( **params)\n",
        "    clf.fit(X_train,y_train)\n",
        "    score=clf.score(X_test,y_test)\n",
        "\n",
        "    return {'loss':-score, 'status': STATUS_OK }\n",
        "# Define the hyperparameter configuration space\n",
        "space = {\n",
        "    'n_estimators': hp.quniform('n_estimators', 10, 200, 1),\n",
        "    'max_depth': hp.quniform('max_depth', 5, 50, 1),\n",
        "    \"max_features\":hp.quniform('max_features', 1, 20, 1),\n",
        "    \"min_samples_split\":hp.quniform('min_samples_split',2,11,1),\n",
        "    \"min_samples_leaf\":hp.quniform('min_samples_leaf',1,11,1),\n",
        "    \"criterion\":hp.choice('criterion',['gini','entropy'])\n",
        "}\n",
        "\n",
        "best = fmin(fn=objective,\n",
        "            space=space,\n",
        "            algo=tpe.suggest,\n",
        "            max_evals=20)\n",
        "print(\"Random Forest: Hyperopt estimated optimum {}\".format(best))"
      ]
    },
    {
      "cell_type": "code",
      "execution_count": null,
      "metadata": {
        "colab": {
          "background_save": true
        },
        "id": "asIZUU9cubbx",
        "outputId": "224d7e03-4111-4b90-aa68-1a63e7d2e14f"
      },
      "outputs": [
        {
          "name": "stdout",
          "output_type": "stream",
          "text": [
            "Accuracy of ET: 0.9958208955223881\n",
            "Precision of ET: 0.9958278656169292\n",
            "Recall of ET: 0.9958208955223881\n",
            "F1-score of ET: 0.9958223261853618\n",
            "              precision    recall  f1-score   support\n",
            "\n",
            "           0       0.99      1.00      1.00       701\n",
            "           1       1.00      1.00      1.00        18\n",
            "           2       0.99      1.00      0.99       370\n",
            "           3       1.00      1.00      1.00      1100\n",
            "           4       0.99      1.00      1.00      1159\n",
            "           5       1.00      1.00      1.00         2\n",
            "\n",
            "    accuracy                           1.00      3350\n",
            "   macro avg       1.00      1.00      1.00      3350\n",
            "weighted avg       1.00      1.00      1.00      3350\n",
            "\n"
          ]
        },
        {
          "data": {
            "image/png": "[encoded data removed]",
            "text/plain": [
              "<Figure size 500x500 with 2 Axes>"
            ]
          },
          "metadata": {},
          "output_type": "display_data"
        }
      ],
      "source": [
        "et_hpo = ExtraTreesClassifier(n_estimators = 53, min_samples_leaf = 1, max_depth = 31, min_samples_split = 5, max_features = 20, criterion = 'entropy')\n",
        "et_hpo.fit(X_train,y_train) \n",
        "et_score=et_hpo.score(X_test,y_test)\n",
        "y_predict=et_hpo.predict(X_test)\n",
        "y_true=y_test\n",
        "print('Accuracy of ET: '+ str(et_score))\n",
        "precision,recall,fscore,none= precision_recall_fscore_support(y_true, y_predict, average='weighted') \n",
        "print('Precision of ET: '+(str(precision)))\n",
        "print('Recall of ET: '+(str(recall)))\n",
        "print('F1-score of ET: '+(str(fscore)))\n",
        "print(classification_report(y_true,y_predict))\n",
        "cm=confusion_matrix(y_true,y_predict)\n",
        "f,ax=plt.subplots(figsize=(5,5))\n",
        "sns.heatmap(cm,annot=True,linewidth=0.5,linecolor=\"red\",fmt=\".0f\",ax=ax)\n",
        "plt.xlabel(\"y_pred\")\n",
        "plt.ylabel(\"y_true\")\n",
        "plt.show()"
      ]
    },
    {
      "cell_type": "code",
      "execution_count": null,
      "metadata": {
        "colab": {
          "background_save": true
        },
        "id": "FHwQ6dHsufUQ"
      },
      "outputs": [],
      "source": [
        "et_train=et_hpo.predict(X_train)\n",
        "et_test=et_hpo.predict(X_test)"
      ]
    },
    {
      "cell_type": "code",
      "execution_count": null,
      "metadata": {
        "colab": {
          "background_save": true
        },
        "id": "fgQcMA3EujRh",
        "outputId": "97a2fc49-2b2f-4cc0-df0a-ee585762a888"
      },
      "outputs": [
        {
          "data": {
            "text/html": [
              "\n",
              "  <div id=\"df-215676d8-a2f6-4697-ba1e-1bc74a62a6fa\">\n",
              "    <div class=\"colab-df-container\">\n",
              "      <div>\n",
              "<style scoped>\n",
              "    .dataframe tbody tr th:only-of-type {\n",
              "        vertical-align: middle;\n",
              "    }\n",
              "\n",
              "    .dataframe tbody tr th {\n",
              "        vertical-align: top;\n",
              "    }\n",
              "\n",
              "    .dataframe thead th {\n",
              "        text-align: right;\n",
              "    }\n",
              "</style>\n",
              "<table border=\"1\" class=\"dataframe\">\n",
              "  <thead>\n",
              "    <tr style=\"text-align: right;\">\n",
              "      <th></th>\n",
              "      <th>DecisionTree</th>\n",
              "      <th>RandomForest</th>\n",
              "      <th>ExtraTrees</th>\n",
              "      <th>XgBoost</th>\n",
              "    </tr>\n",
              "  </thead>\n",
              "  <tbody>\n",
              "    <tr>\n",
              "      <th>0</th>\n",
              "      <td>4</td>\n",
              "      <td>4</td>\n",
              "      <td>4</td>\n",
              "      <td>4</td>\n",
              "    </tr>\n",
              "    <tr>\n",
              "      <th>1</th>\n",
              "      <td>3</td>\n",
              "      <td>3</td>\n",
              "      <td>3</td>\n",
              "      <td>3</td>\n",
              "    </tr>\n",
              "    <tr>\n",
              "      <th>2</th>\n",
              "      <td>0</td>\n",
              "      <td>0</td>\n",
              "      <td>0</td>\n",
              "      <td>0</td>\n",
              "    </tr>\n",
              "    <tr>\n",
              "      <th>3</th>\n",
              "      <td>3</td>\n",
              "      <td>3</td>\n",
              "      <td>3</td>\n",
              "      <td>3</td>\n",
              "    </tr>\n",
              "    <tr>\n",
              "      <th>4</th>\n",
              "      <td>0</td>\n",
              "      <td>0</td>\n",
              "      <td>0</td>\n",
              "      <td>0</td>\n",
              "    </tr>\n",
              "  </tbody>\n",
              "</table>\n",
              "</div>\n",
              "      <button class=\"colab-df-convert\" onclick=\"convertToInteractive('df-215676d8-a2f6-4697-ba1e-1bc74a62a6fa')\"\n",
              "              title=\"Convert this dataframe to an interactive table.\"\n",
              "              style=\"display:none;\">\n",
              "        \n",
              "  <svg xmlns=\"http://www.w3.org/2000/svg\" height=\"24px\"viewBox=\"0 0 24 24\"\n",
              "       width=\"24px\">\n",
              "    <path d=\"M0 0h24v24H0V0z\" fill=\"none\"/>\n",
              "    <path d=\"M18.56 5.44l.94 2.06.94-2.06 2.06-.94-2.06-.94-.94-2.06-.94 2.06-2.06.94zm-11 1L8.5 8.5l.94-2.06 2.06-.94-2.06-.94L8.5 2.5l-.94 2.06-2.06.94zm10 10l.94 2.06.94-2.06 2.06-.94-2.06-.94-.94-2.06-.94 2.06-2.06.94z\"/><path d=\"M17.41 7.96l-1.37-1.37c-.4-.4-.92-.59-1.43-.59-.52 0-1.04.2-1.43.59L10.3 9.45l-7.72 7.72c-.78.78-.78 2.05 0 2.83L4 21.41c.39.39.9.59 1.41.59.51 0 1.02-.2 1.41-.59l7.78-7.78 2.81-2.81c.8-.78.8-2.07 0-2.86zM5.41 20L4 18.59l7.72-7.72 1.47 1.35L5.41 20z\"/>\n",
              "  </svg>\n",
              "      </button>\n",
              "      \n",
              "  <style>\n",
              "    .colab-df-container {\n",
              "      display:flex;\n",
              "      flex-wrap:wrap;\n",
              "      gap: 12px;\n",
              "    }\n",
              "\n",
              "    .colab-df-convert {\n",
              "      background-color: #E8F0FE;\n",
              "      border: none;\n",
              "      border-radius: 50%;\n",
              "      cursor: pointer;\n",
              "      display: none;\n",
              "      fill: #1967D2;\n",
              "      height: 32px;\n",
              "      padding: 0 0 0 0;\n",
              "      width: 32px;\n",
              "    }\n",
              "\n",
              "    .colab-df-convert:hover {\n",
              "      background-color: #E2EBFA;\n",
              "      box-shadow: 0px 1px 2px rgba(60, 64, 67, 0.3), 0px 1px 3px 1px rgba(60, 64, 67, 0.15);\n",
              "      fill: #174EA6;\n",
              "    }\n",
              "\n",
              "    [theme=dark] .colab-df-convert {\n",
              "      background-color: #3B4455;\n",
              "      fill: #D2E3FC;\n",
              "    }\n",
              "\n",
              "    [theme=dark] .colab-df-convert:hover {\n",
              "      background-color: #434B5C;\n",
              "      box-shadow: 0px 1px 3px 1px rgba(0, 0, 0, 0.15);\n",
              "      filter: drop-shadow(0px 1px 2px rgba(0, 0, 0, 0.3));\n",
              "      fill: #FFFFFF;\n",
              "    }\n",
              "  </style>\n",
              "\n",
              "      <script>\n",
              "        const buttonEl =\n",
              "          document.querySelector('#df-215676d8-a2f6-4697-ba1e-1bc74a62a6fa button.colab-df-convert');\n",
              "        buttonEl.style.display =\n",
              "          google.colab.kernel.accessAllowed ? 'block' : 'none';\n",
              "\n",
              "        async function convertToInteractive(key) {\n",
              "          const element = document.querySelector('#df-215676d8-a2f6-4697-ba1e-1bc74a62a6fa');\n",
              "          const dataTable =\n",
              "            await google.colab.kernel.invokeFunction('convertToInteractive',\n",
              "                                                     [key], {});\n",
              "          if (!dataTable) return;\n",
              "\n",
              "          const docLinkHtml = 'Like what you see? Visit the ' +\n",
              "            '<a target=\"_blank\" href=https://colab.research.google.com/notebooks/data_table.ipynb>data table notebook</a>'\n",
              "            + ' to learn more about interactive tables.';\n",
              "          element.innerHTML = '';\n",
              "          dataTable['output_type'] = 'display_data';\n",
              "          await google.colab.output.renderOutput(dataTable, element);\n",
              "          const docLink = document.createElement('div');\n",
              "          docLink.innerHTML = docLinkHtml;\n",
              "          element.appendChild(docLink);\n",
              "        }\n",
              "      </script>\n",
              "    </div>\n",
              "  </div>\n",
              "  "
            ],
            "text/plain": [
              "   DecisionTree  RandomForest  ExtraTrees  XgBoost\n",
              "0             4             4           4        4\n",
              "1             3             3           3        3\n",
              "2             0             0           0        0\n",
              "3             3             3           3        3\n",
              "4             0             0           0        0"
            ]
          },
          "execution_count": 58,
          "metadata": {},
          "output_type": "execute_result"
        }
      ],
      "source": [
        "base_predictions_train = pd.DataFrame( {\n",
        "    'DecisionTree': dt_train.ravel(),\n",
        "        'RandomForest': rf_train.ravel(),\n",
        "     'ExtraTrees': et_train.ravel(),\n",
        "     'XgBoost': xg_train.ravel(),\n",
        "    })\n",
        "base_predictions_train.head(5)"
      ]
    },
    {
      "cell_type": "code",
      "execution_count": null,
      "metadata": {
        "colab": {
          "background_save": true
        },
        "id": "DT71D2H1umCM"
      },
      "outputs": [],
      "source": [
        "dt_train=dt_train.reshape(-1, 1)\n",
        "et_train=et_train.reshape(-1, 1)\n",
        "rf_train=rf_train.reshape(-1, 1)\n",
        "xg_train=xg_train.reshape(-1, 1)\n",
        "dt_test=dt_test.reshape(-1, 1)\n",
        "et_test=et_test.reshape(-1, 1)\n",
        "rf_test=rf_test.reshape(-1, 1)\n",
        "xg_test=xg_test.reshape(-1, 1)"
      ]
    },
    {
      "cell_type": "code",
      "execution_count": null,
      "metadata": {
        "colab": {
          "background_save": true
        },
        "id": "qyYH6IYwuq3E",
        "outputId": "0dc8174b-e8eb-41a2-e3ba-96ee79cfdd65"
      },
      "outputs": [
        {
          "data": {
            "text/plain": [
              "(22593, 1)"
            ]
          },
          "execution_count": 60,
          "metadata": {},
          "output_type": "execute_result"
        }
      ],
      "source": [
        "dt_train.shape"
      ]
    },
    {
      "cell_type": "code",
      "execution_count": null,
      "metadata": {
        "colab": {
          "background_save": true
        },
        "id": "bintMJ3gutBE"
      },
      "outputs": [],
      "source": [
        "x_train = np.concatenate(( dt_train, et_train, rf_train, xg_train), axis=1)\n",
        "x_test = np.concatenate(( dt_test, et_test, rf_test, xg_test), axis=1)"
      ]
    },
    {
      "cell_type": "code",
      "execution_count": null,
      "metadata": {
        "colab": {
          "background_save": true
        },
        "id": "MaWYl37juvpm",
        "outputId": "c63777eb-c998-4268-e38e-c9cd5aa355e1"
      },
      "outputs": [
        {
          "name": "stdout",
          "output_type": "stream",
          "text": [
            "Accuracy of Stacking: 0.9967164179104477\n",
            "Precision of Stacking: 0.9967168787313287\n",
            "Recall of Stacking: 0.9967164179104477\n",
            "F1-score of Stacking: 0.9967164747054857\n",
            "              precision    recall  f1-score   support\n",
            "\n",
            "           0       1.00      1.00      1.00       701\n",
            "           1       1.00      1.00      1.00        18\n",
            "           2       1.00      1.00      1.00       370\n",
            "           3       1.00      1.00      1.00      1100\n",
            "           4       1.00      1.00      1.00      1159\n",
            "           5       1.00      1.00      1.00         2\n",
            "\n",
            "    accuracy                           1.00      3350\n",
            "   macro avg       1.00      1.00      1.00      3350\n",
            "weighted avg       1.00      1.00      1.00      3350\n",
            "\n"
          ]
        },
        {
          "data": {
            "image/png": "[encoded data removed]",
            "text/plain": [
              "<Figure size 500x500 with 2 Axes>"
            ]
          },
          "metadata": {},
          "output_type": "display_data"
        }
      ],
      "source": [
        "stk = StackingClassifier(estimators=[('rf',rf),('dt',dt),('et',et)],final_estimator=xg).fit(x_train, y_train)\n",
        "y_predict=stk.predict(x_test)\n",
        "y_true=y_test\n",
        "stk_score=accuracy_score(y_true,y_predict)\n",
        "print('Accuracy of Stacking: '+ str(stk_score))\n",
        "precision,recall,fscore,none= precision_recall_fscore_support(y_true, y_predict, average='weighted') \n",
        "print('Precision of Stacking: '+(str(precision)))\n",
        "print('Recall of Stacking: '+(str(recall)))\n",
        "print('F1-score of Stacking: '+(str(fscore)))\n",
        "print(classification_report(y_true,y_predict))\n",
        "cm=confusion_matrix(y_true,y_predict)\n",
        "f,ax=plt.subplots(figsize=(5,5))\n",
        "sns.heatmap(cm,annot=True,linewidth=0.5,linecolor=\"red\",fmt=\".0f\",ax=ax)\n",
        "plt.xlabel(\"y_pred\")\n",
        "plt.ylabel(\"y_true\")\n",
        "plt.show()"
      ]
    },
    {
      "cell_type": "code",
      "execution_count": null,
      "metadata": {
        "colab": {
          "background_save": true
        },
        "id": "qqjNIkNBwd74"
      },
      "outputs": [],
      "source": [
        "#(new_output).all()"
      ]
    },
    {
      "cell_type": "code",
      "execution_count": null,
      "metadata": {
        "colab": {
          "background_save": true
        },
        "id": "DG4FrW2ruzUP",
        "outputId": "12313a97-0bcc-42fb-e1dd-1cb528cf5b77"
      },
      "outputs": [
        {
          "name": "stdout",
          "output_type": "stream",
          "text": [
            "100%|██████████| 20/20 [00:16<00:00,  1.23trial/s, best loss: -0.9967164179104477]\n",
            "XGBoost: Hyperopt estimated optimum {'learning_rate': -1.0013081090619935, 'max_depth': 62.0, 'n_estimators': 80.0}\n"
          ]
        }
      ],
      "source": [
        "from hyperopt import hp, fmin, tpe, STATUS_OK, Trials\n",
        "from sklearn.model_selection import cross_val_score, StratifiedKFold\n",
        "def objective(params):\n",
        "    params = {\n",
        "        'n_estimators': int(params['n_estimators']), \n",
        "        'max_depth': int(params['max_depth']),\n",
        "        'learning_rate':  abs(float(params['learning_rate'])),\n",
        "\n",
        "    }\n",
        "    clf = xgb.XGBClassifier( **params)\n",
        "    clf.fit(x_train, y_train)\n",
        "    y_pred = clf.predict(x_test)\n",
        "    score = accuracy_score(y_test, y_pred)\n",
        "\n",
        "    return {'loss':-score, 'status': STATUS_OK }\n",
        "\n",
        "space = {\n",
        "    'n_estimators': hp.quniform('n_estimators', 10, 100, 5),\n",
        "    'max_depth': hp.quniform('max_depth', 4, 100, 1),\n",
        "    'learning_rate': hp.normal('learning_rate', 0.01, 0.9),\n",
        "}\n",
        "\n",
        "best = fmin(fn=objective,\n",
        "            space=space,\n",
        "            algo=tpe.suggest,\n",
        "            max_evals=20)\n",
        "print(\"XGBoost: Hyperopt estimated optimum {}\".format(best))"
      ]
    },
    {
      "cell_type": "code",
      "execution_count": null,
      "metadata": {
        "colab": {
          "background_save": true
        },
        "id": "icnMTHuNHYbQ"
      },
      "outputs": [],
      "source": []
    },
    {
      "cell_type": "code",
      "execution_count": null,
      "metadata": {
        "colab": {
          "background_save": true
        },
        "id": "mLPaipQeu5Q4",
        "outputId": "e284e81e-2eab-4382-da7c-b20d5980a1fe"
      },
      "outputs": [
        {
          "name": "stdout",
          "output_type": "stream",
          "text": [
            "Accuracy of Stacking: 0.9967164179104477\n",
            "Precision of Stacking: 0.9967168787313287\n",
            "Recall of Stackingt: 0.9967164179104477\n",
            "F1-score of Stacking: 0.9967164747054857\n",
            "              precision    recall  f1-score   support\n",
            "\n",
            "           0       1.00      1.00      1.00       701\n",
            "           1       1.00      1.00      1.00        18\n",
            "           2       1.00      1.00      1.00       370\n",
            "           3       1.00      1.00      1.00      1100\n",
            "           4       1.00      1.00      1.00      1159\n",
            "           5       1.00      1.00      1.00         2\n",
            "\n",
            "    accuracy                           1.00      3350\n",
            "   macro avg       1.00      1.00      1.00      3350\n",
            "weighted avg       1.00      1.00      1.00      3350\n",
            "\n"
          ]
        },
        {
          "data": {
            "image/png": "[encoded data removed]",
            "text/plain": [
              "<Figure size 500x500 with 2 Axes>"
            ]
          },
          "metadata": {},
          "output_type": "display_data"
        }
      ],
      "source": [
        "xg = xgb.XGBClassifier(learning_rate= 0.19229249758051492, n_estimators = 30, max_depth = 36)\n",
        "xg.fit(x_train,y_train)\n",
        "xg_score=xg.score(x_test,y_test)\n",
        "y_predict=xg.predict(x_test)\n",
        "y_true=y_test\n",
        "print('Accuracy of Stacking: '+ str(xg_score))\n",
        "precision,recall,fscore,none= precision_recall_fscore_support(y_true, y_predict, average='weighted') \n",
        "print('Precision of Stacking: '+(str(precision)))\n",
        "print('Recall of Stackingt: '+(str(recall)))\n",
        "print('F1-score of Stacking: '+(str(fscore)))\n",
        "print(classification_report(y_true,y_predict))\n",
        "cm=confusion_matrix(y_true,y_predict)\n",
        "f,ax=plt.subplots(figsize=(5,5))\n",
        "sns.heatmap(cm,annot=True,linewidth=0.5,linecolor=\"red\",fmt=\".0f\",ax=ax)\n",
        "plt.xlabel(\"y_pred\")\n",
        "plt.ylabel(\"y_true\")\n",
        "plt.show()"
      ]
    },
    {
      "cell_type": "code",
      "execution_count": null,
      "metadata": {
        "colab": {
          "background_save": true
        },
        "id": "M2RaQ3nlrpyU",
        "outputId": "7777e506-d274-4372-a892-d2f3d1e2cb2f"
      },
      "outputs": [
        {
          "name": "stdout",
          "output_type": "stream",
          "text": [
            "\n",
            "ACCURACY OF THE MODEL:  99.67164179104478\n"
          ]
        }
      ],
      "source": [
        "from sklearn import metrics  \n",
        "print()\n",
        "\n",
        "print(\"ACCURACY OF THE MODEL: \", metrics.accuracy_score(y_true,y_predict)*100)"
      ]
    },
    {
      "cell_type": "code",
      "execution_count": null,
      "metadata": {
        "colab": {
          "background_save": true
        },
        "id": "T_sv-CZNsswu"
      },
      "outputs": [],
      "source": [
        "new_input = x_train"
      ]
    },
    {
      "cell_type": "code",
      "execution_count": null,
      "metadata": {
        "colab": {
          "background_save": true
        },
        "id": "rFfKBld5uD3Y",
        "outputId": "548af488-05ae-428b-cc0b-2850222dcdd7"
      },
      "outputs": [
        {
          "data": {
            "text/plain": [
              "array([4, 3, 0, ..., 5, 5, 5])"
            ]
          },
          "execution_count": 68,
          "metadata": {},
          "output_type": "execute_result"
        }
      ],
      "source": [
        "new_output = stk.predict(new_input)\n",
        "new_output"
      ]
    },
    {
      "cell_type": "code",
      "execution_count": null,
      "metadata": {
        "colab": {
          "background_save": true
        },
        "id": "3_zNT4oDva5r",
        "outputId": "7d999645-68db-496c-aafd-6e534a327657"
      },
      "outputs": [
        {
          "name": "stdout",
          "output_type": "stream",
          "text": [
            "DOS SLOWLORIS\n"
          ]
        }
      ],
      "source": [
        "new_output\n",
        "if new_output[0]==[0]:\n",
        "    print('BENIGN')\n",
        "elif new_output[0] == [1]:\n",
        "    print('DOS GOLDENEYE')\n",
        "elif new_output[0] == [2]:\n",
        "    print('DOS HULK')\n",
        "elif new_output[0] == [3]:\n",
        "    print('DOS SLOWHTTPTEST')\n",
        "else:\n",
        "    print('DOS SLOWLORIS')"
      ]
    },
    {
      "cell_type": "code",
      "execution_count": null,
      "metadata": {
        "colab": {
          "background_save": true
        },
        "id": "_NTXxsd_rUI-"
      },
      "outputs": [],
      "source": [
        "# new_input = x_test.values"
      ]
    },
    {
      "cell_type": "code",
      "execution_count": null,
      "metadata": {
        "colab": {
          "background_save": true
        },
        "id": "1Lvt81sku88I"
      },
      "outputs": [],
      "source": [
        " df=pd.read_csv('/content/drive/MyDrive/Intrusion-Detection-System-Using-Machine-Learning-main/data/CICIDS2017_sample_km.csv')"
      ]
    },
    {
      "cell_type": "code",
      "execution_count": null,
      "metadata": {
        "colab": {
          "background_save": true
        },
        "id": "u5lh6z4yvDR-",
        "outputId": "7209aac2-4667-40c7-8b6b-a4e0cc0a443e"
      },
      "outputs": [
        {
          "data": {
            "text/plain": [
              "4    5796\n",
              "3    5499\n",
              "0    3506\n",
              "2    1848\n",
              "1      88\n",
              "5      11\n",
              "Name: Label, dtype: int64"
            ]
          },
          "execution_count": 72,
          "metadata": {},
          "output_type": "execute_result"
        }
      ],
      "source": [
        " df.Label.value_counts()"
      ]
    },
    {
      "cell_type": "code",
      "execution_count": null,
      "metadata": {
        "colab": {
          "background_save": true
        },
        "id": "GUSicxOvvGmU"
      },
      "outputs": [],
      "source": [
        " df1 = df[df['Label'] != 4]\n",
        " df1['Label'][df1['Label'] > 0] = 1\n",
        " df1.to_csv('/content/drive/MyDrive/Intrusion-Detection-System-Using-Machine-Learning-main/data/CICIDS2017_sample_km_without_portscan.csv',index=0)"
      ]
    },
    {
      "cell_type": "code",
      "execution_count": null,
      "metadata": {
        "colab": {
          "background_save": true
        },
        "id": "dbbFfR-OvKRU"
      },
      "outputs": [],
      "source": [
        " df2 = df[df['Label'] == 4]\n",
        " df2['Label'][df2['Label'] == 4] = 1\n",
        " df2.to_csv('/content/drive/MyDrive/Intrusion-Detection-System-Using-Machine-Learning-main/data/CICIDS2017_sample_km_portscan.csv',index=0)"
      ]
    },
    {
      "cell_type": "code",
      "execution_count": null,
      "metadata": {
        "colab": {
          "background_save": true
        },
        "id": "hNEJovCuvMp5"
      },
      "outputs": [],
      "source": [
        "df1 = pd.read_csv('/content/drive/MyDrive/Intrusion-Detection-System-Using-Machine-Learning-main/data/CICIDS2017_sample_km_without_portscan.csv')\n",
        "df2 = pd.read_csv('/content/drive/MyDrive/Intrusion-Detection-System-Using-Machine-Learning-main/data/CICIDS2017_sample_km_portscan.csv')"
      ]
    },
    {
      "cell_type": "code",
      "execution_count": null,
      "metadata": {
        "colab": {
          "background_save": true
        },
        "id": "634khxnFvQsc"
      },
      "outputs": [],
      "source": [
        "features = df1.drop(['Label'],axis=1).dtypes[df1.dtypes != 'object'].index\n",
        "df1[features] = df1[features].apply(\n",
        "    lambda x: (x - x.mean()) / (x.std()))\n",
        "df2[features] = df2[features].apply(\n",
        "    lambda x: (x - x.mean()) / (x.std()))\n",
        "df1 = df1.fillna(0)\n",
        "df2 = df2.fillna(0)"
      ]
    },
    {
      "cell_type": "code",
      "execution_count": null,
      "metadata": {
        "colab": {
          "background_save": true
        },
        "id": "vqPSqWZYvWGV",
        "outputId": "d39b3f94-bf21-45b7-f0e3-af5568ec8ad7"
      },
      "outputs": [
        {
          "data": {
            "text/plain": [
              "1    7446\n",
              "0    3506\n",
              "Name: Label, dtype: int64"
            ]
          },
          "execution_count": 77,
          "metadata": {},
          "output_type": "execute_result"
        }
      ],
      "source": [
        "df1.Label.value_counts()"
      ]
    },
    {
      "cell_type": "code",
      "execution_count": null,
      "metadata": {
        "colab": {
          "background_save": true
        },
        "id": "aspNhWbDvZp8",
        "outputId": "26bfd09e-f638-402e-b09e-6970e54fda7e"
      },
      "outputs": [
        {
          "data": {
            "text/plain": [
              "1    5796\n",
              "Name: Label, dtype: int64"
            ]
          },
          "execution_count": 78,
          "metadata": {},
          "output_type": "execute_result"
        }
      ],
      "source": [
        "df2.Label.value_counts()"
      ]
    },
    {
      "cell_type": "code",
      "execution_count": null,
      "metadata": {
        "colab": {
          "background_save": true
        },
        "id": "av5pgPCNvaeB"
      },
      "outputs": [],
      "source": [
        "df2p=df1[df1['Label']==0]\n",
        "df2pp=df2p.sample(n=None, frac=5796/7435, replace=False, weights=None, random_state=None, axis=0)\n",
        "df2=pd.concat([df2, df2pp])"
      ]
    },
    {
      "cell_type": "code",
      "execution_count": null,
      "metadata": {
        "colab": {
          "background_save": true
        },
        "id": "FYH5iSqFvcuu",
        "outputId": "36d9a5b4-c1dc-4ebe-86bf-e9ba00391e0f"
      },
      "outputs": [
        {
          "data": {
            "text/plain": [
              "1    5796\n",
              "0    2733\n",
              "Name: Label, dtype: int64"
            ]
          },
          "execution_count": 80,
          "metadata": {},
          "output_type": "execute_result"
        }
      ],
      "source": [
        "df2.Label.value_counts()"
      ]
    },
    {
      "cell_type": "code",
      "execution_count": null,
      "metadata": {
        "colab": {
          "background_save": true
        },
        "id": "TNrnyEWqvfXD"
      },
      "outputs": [],
      "source": [
        "df = df1.append(df2)"
      ]
    },
    {
      "cell_type": "code",
      "execution_count": null,
      "metadata": {
        "colab": {
          "background_save": true
        },
        "id": "t8mMjEZ5vknJ",
        "outputId": "7a63dc8c-d844-4b9f-b1c8-d46ef299427e"
      },
      "outputs": [
        {
          "data": {
            "text/plain": [
              "1    13242\n",
              "0     6239\n",
              "dtype: int64"
            ]
          },
          "execution_count": 82,
          "metadata": {},
          "output_type": "execute_result"
        }
      ],
      "source": [
        "X = df.drop(['Label'],axis=1) .values\n",
        "y = df.iloc[:, -1].values.reshape(-1,1)\n",
        "y=y.astype('int')\n",
        "y=np.ravel(y)\n",
        "pd.Series(y).value_counts()"
      ]
    },
    {
      "cell_type": "code",
      "execution_count": null,
      "metadata": {
        "colab": {
          "background_save": true
        },
        "id": "b7AzXyX3vmog"
      },
      "outputs": [],
      "source": [
        "from sklearn.feature_selection import mutual_info_classif\n",
        "importances = mutual_info_classif(X, y)"
      ]
    },
    {
      "cell_type": "code",
      "execution_count": null,
      "metadata": {
        "colab": {
          "background_save": true
        },
        "id": "nA8N8hKqvo6U"
      },
      "outputs": [],
      "source": [
        "f_list = sorted(zip(map(lambda x: round(x, 4), importances), features), reverse=True)\n",
        "Sum = 0\n",
        "fs = []\n",
        "for i in range(0, len(f_list)):\n",
        "    Sum = Sum + f_list[i][0]\n",
        "    fs.append(f_list[i][1])"
      ]
    },
    {
      "cell_type": "code",
      "execution_count": null,
      "metadata": {
        "colab": {
          "background_save": true
        },
        "id": "sPCN_Mmbvrvx"
      },
      "outputs": [],
      "source": [
        "f_list2 = sorted(zip(map(lambda x: round(x, 4), importances/Sum), features), reverse=True)\n",
        "Sum2 = 0\n",
        "fs = []\n",
        "for i in range(0, len(f_list2)):\n",
        "    Sum2 = Sum2 + f_list2[i][0]\n",
        "    fs.append(f_list2[i][1])\n",
        "    if Sum2>=0.9:\n",
        "        break  "
      ]
    },
    {
      "cell_type": "code",
      "execution_count": null,
      "metadata": {
        "colab": {
          "background_save": true
        },
        "id": "mx_c1qnLvubw"
      },
      "outputs": [],
      "source": [
        "X_fs = df[fs].values"
      ]
    },
    {
      "cell_type": "code",
      "execution_count": null,
      "metadata": {
        "colab": {
          "background_save": true
        },
        "id": "EcO3UdCovwfB",
        "outputId": "8dfa6b2c-642e-450a-8587-3a361275e0d8"
      },
      "outputs": [
        {
          "data": {
            "text/plain": [
              "(19481, 54)"
            ]
          },
          "execution_count": 87,
          "metadata": {},
          "output_type": "execute_result"
        }
      ],
      "source": [
        "X_fs.shape"
      ]
    },
    {
      "cell_type": "code",
      "execution_count": null,
      "metadata": {
        "colab": {
          "background_save": true
        },
        "id": "stSHZaYMv0Dg",
        "outputId": "0cb221ce-4a05-49e9-d39d-c80c27a79f30"
      },
      "outputs": [
        {
          "data": {
            "text/plain": [
              "array([[-0.24825073, -0.46978699, -0.93375348, ..., -1.61308397,\n",
              "         0.81058163, -0.42780344],\n",
              "       [-0.24825073, -0.47218518, -0.93375348, ..., -1.61308397,\n",
              "         0.81058163, -0.42780344],\n",
              "       [-0.24825073, -0.46930736, -0.93375348, ..., -1.61308397,\n",
              "         0.81058163, -0.42780344],\n",
              "       ...,\n",
              "       [-0.24825073, -0.47842048, -0.93375348, ..., -1.61308397,\n",
              "         0.81058163, -0.42780344],\n",
              "       [-0.24217798, -0.48033903, -0.93375348, ..., -1.61308397,\n",
              "         0.81058163, -0.42780344],\n",
              "       [-0.2144168 ,  0.42809511, -0.37766393, ..., -1.61308397,\n",
              "        -0.52699408,  0.51250667]])"
            ]
          },
          "execution_count": 88,
          "metadata": {},
          "output_type": "execute_result"
        }
      ],
      "source": [
        "X_fs"
      ]
    },
    {
      "cell_type": "code",
      "execution_count": null,
      "metadata": {
        "colab": {
          "background_save": true
        },
        "id": "Cvmej4Npv2XO"
      },
      "outputs": [],
      "source": [
        "from FCBF_module import FCBF, FCBFK, FCBFiP, get_i\n",
        "fcbf = FCBFK(k = 20)\n",
        "#fcbf.fit(X_fs, y)"
      ]
    },
    {
      "cell_type": "code",
      "execution_count": null,
      "metadata": {
        "colab": {
          "background_save": true
        },
        "id": "bYzlPmV2v5Tw"
      },
      "outputs": [],
      "source": [
        "X_fss = fcbf.fit_transform(X_fs,y)"
      ]
    },
    {
      "cell_type": "code",
      "execution_count": null,
      "metadata": {
        "colab": {
          "background_save": true
        },
        "id": "e2VMdb_Xv7vc",
        "outputId": "d329dd87-e03b-4b41-b982-64aa31ffa851"
      },
      "outputs": [
        {
          "data": {
            "text/plain": [
              "(19481, 20)"
            ]
          },
          "execution_count": 91,
          "metadata": {},
          "output_type": "execute_result"
        }
      ],
      "source": [
        "X_fss.shape"
      ]
    },
    {
      "cell_type": "code",
      "execution_count": null,
      "metadata": {
        "colab": {
          "background_save": true
        },
        "id": "FE1ppdjPv-cn",
        "outputId": "1c6e1486-bde4-45e9-c325-6a845fd7d3a4"
      },
      "outputs": [
        {
          "data": {
            "text/plain": [
              "array([[-0.24825073, -0.93375348,  0.27883289, ..., -0.22192062,\n",
              "        -0.08466248, -0.08466248],\n",
              "       [-0.24825073, -0.93375348,  0.27883289, ..., -0.22192062,\n",
              "        -0.08466248, -0.08466248],\n",
              "       [-0.24825073, -0.93375348,  0.26169176, ..., -0.22192062,\n",
              "        -0.08466248, -0.08466248],\n",
              "       ...,\n",
              "       [-0.24825073, -0.93375348,  0.33025627, ..., -0.22192062,\n",
              "        -0.08466248, -0.08466248],\n",
              "       [-0.24217798, -0.93375348,  0.53594982, ..., -0.22192062,\n",
              "        -0.08466248, -0.08466248],\n",
              "       [-0.2144168 , -0.37766393, -0.28682436, ..., -0.20466347,\n",
              "        -0.02397247, -0.02397247]])"
            ]
          },
          "execution_count": 92,
          "metadata": {},
          "output_type": "execute_result"
        }
      ],
      "source": [
        "X_fss"
      ]
    },
    {
      "cell_type": "code",
      "execution_count": null,
      "metadata": {
        "colab": {
          "background_save": true
        },
        "id": "UCFIwOR2wAXS"
      },
      "outputs": [],
      "source": [
        "from sklearn.decomposition import KernelPCA\n",
        "kpca = KernelPCA(n_components = 4, kernel = 'rbf')\n",
        "kpca.fit(X_fss, y)\n",
        "X_kpca = kpca.transform(X_fss)\n"
      ]
    },
    {
      "cell_type": "code",
      "execution_count": null,
      "metadata": {
        "colab": {
          "background_save": true
        },
        "id": "ZNxrlHSowDY8"
      },
      "outputs": [],
      "source": [
        "X_train = X_kpca[:len(df1)]\n",
        "y_train = y[:len(df1)]\n",
        "X_test = X_kpca[len(df1):]\n",
        "y_test = y[len(df1):]"
      ]
    },
    {
      "cell_type": "code",
      "execution_count": null,
      "metadata": {
        "colab": {
          "background_save": true
        },
        "id": "rH6rOiGAwHsV",
        "outputId": "8e73296c-3767-4282-90ca-56b5c6e5d080"
      },
      "outputs": [
        {
          "data": {
            "text/plain": [
              "1    7446\n",
              "0    3506\n",
              "dtype: int64"
            ]
          },
          "execution_count": 95,
          "metadata": {},
          "output_type": "execute_result"
        }
      ],
      "source": [
        "pd.Series(y_train).value_counts()\n"
      ]
    },
    {
      "cell_type": "code",
      "execution_count": null,
      "metadata": {
        "colab": {
          "background_save": true
        },
        "id": "CYuDvgAfwM49"
      },
      "outputs": [],
      "source": [
        "from imblearn.over_sampling import SMOTE\n",
        "smote=SMOTE(n_jobs=-1,sampling_strategy={0:11389})\n",
        "X_train, y_train = smote.fit_resample(X_train, y_train)"
      ]
    },
    {
      "cell_type": "code",
      "execution_count": null,
      "metadata": {
        "colab": {
          "background_save": true
        },
        "id": "PHFUg5a7wWte",
        "outputId": "08c89429-4d69-4d20-91c0-26dfdbdbe544"
      },
      "outputs": [
        {
          "data": {
            "text/plain": [
              "0    11389\n",
              "1     7446\n",
              "dtype: int64"
            ]
          },
          "execution_count": 97,
          "metadata": {},
          "output_type": "execute_result"
        }
      ],
      "source": [
        "pd.Series(y_train).value_counts()"
      ]
    },
    {
      "cell_type": "code",
      "execution_count": null,
      "metadata": {
        "colab": {
          "background_save": true
        },
        "id": "j0DHqozpwY8w",
        "outputId": "e1195811-688c-4e06-9fcd-1143083bcf91"
      },
      "outputs": [
        {
          "data": {
            "text/plain": [
              "1    5796\n",
              "0    2733\n",
              "dtype: int64"
            ]
          },
          "execution_count": 98,
          "metadata": {},
          "output_type": "execute_result"
        }
      ],
      "source": [
        "pd.Series(y_test).value_counts()"
      ]
    },
    {
      "cell_type": "code",
      "execution_count": null,
      "metadata": {
        "colab": {
          "background_save": true
        },
        "id": "Rpp0eLcVwa66"
      },
      "outputs": [],
      "source": [
        "from sklearn.cluster import KMeans\n",
        "from sklearn.cluster import DBSCAN,MeanShift\n",
        "from sklearn.cluster import SpectralClustering,AgglomerativeClustering,AffinityPropagation,Birch,MiniBatchKMeans,MeanShift \n",
        "from sklearn.mixture import GaussianMixture, BayesianGaussianMixture\n",
        "from sklearn.metrics import classification_report\n",
        "from sklearn import metrics"
      ]
    },
    {
      "cell_type": "code",
      "execution_count": null,
      "metadata": {
        "colab": {
          "background_save": true
        },
        "id": "aT0OqHy5weKQ"
      },
      "outputs": [],
      "source": [
        "def CL_kmeans(X_train, X_test, y_train, y_test,n,b=100):\n",
        "    km_cluster = MiniBatchKMeans(n_clusters=n,batch_size=b)\n",
        "    result = km_cluster.fit_predict(X_train)\n",
        "    result2 = km_cluster.predict(X_test)\n",
        "\n",
        "    count=0\n",
        "    a=np.zeros(n)\n",
        "    b=np.zeros(n)\n",
        "    for v in range(0,n):\n",
        "        for i in range(0,len(y_train)):\n",
        "            if result[i]==v:\n",
        "                if y_train[i]==1:\n",
        "                    a[v]=a[v]+1\n",
        "                else:\n",
        "                    b[v]=b[v]+1\n",
        "    list1=[]\n",
        "    list2=[]\n",
        "    for v in range(0,n):\n",
        "        if a[v]<=b[v]:\n",
        "            list1.append(v)\n",
        "        else: \n",
        "            list2.append(v)\n",
        "    for v in range(0,len(y_test)):\n",
        "        if result2[v] in list1:\n",
        "            result2[v]=0\n",
        "        elif result2[v] in list2:\n",
        "            result2[v]=1\n",
        "        else:\n",
        "            print(\"-1\")\n",
        "    print(classification_report(y_test, result2))\n",
        "    cm=confusion_matrix(y_test,result2)\n",
        "    acc=metrics.accuracy_score(y_test,result2)\n",
        "    print(str(acc))\n",
        "    print(cm)"
      ]
    },
    {
      "cell_type": "code",
      "execution_count": null,
      "metadata": {
        "colab": {
          "background_save": true
        },
        "id": "YYo3VYwzwjKT",
        "outputId": "58972476-280a-4290-806a-835a133ca3dd"
      },
      "outputs": [
        {
          "name": "stdout",
          "output_type": "stream",
          "text": [
            "              precision    recall  f1-score   support\n",
            "\n",
            "           0       0.37      0.98      0.53      2733\n",
            "           1       0.96      0.20      0.33      5796\n",
            "\n",
            "    accuracy                           0.45      8529\n",
            "   macro avg       0.66      0.59      0.43      8529\n",
            "weighted avg       0.77      0.45      0.39      8529\n",
            "\n",
            "0.4489389142924141\n",
            "[[2683   50]\n",
            " [4650 1146]]\n"
          ]
        }
      ],
      "source": [
        "CL_kmeans(X_train, X_test, y_train, y_test, 8)"
      ]
    },
    {
      "cell_type": "code",
      "execution_count": null,
      "metadata": {
        "colab": {
          "background_save": true
        },
        "id": "pPK-zhyi0yZS",
        "outputId": "b36a5b3c-46bc-4296-fd56-4d43ebf2b9ba"
      },
      "outputs": [
        {
          "name": "stdout",
          "output_type": "stream",
          "text": [
            "Looking in indexes: https://pypi.org/simple, https://us-python.pkg.dev/colab-wheels/public/simple/\n",
            "Collecting git+https://github.com/scikit-optimize/scikit-optimize.git\n",
            "  Cloning https://github.com/scikit-optimize/scikit-optimize.git to /tmp/pip-req-build-0m3s0hn8\n",
            "  Running command git clone --filter=blob:none --quiet https://github.com/scikit-optimize/scikit-optimize.git /tmp/pip-req-build-0m3s0hn8\n",
            "  Resolved https://github.com/scikit-optimize/scikit-optimize.git to commit a2369ddbc332d16d8ff173b12404b03fea472492\n",
            "  Installing build dependencies ... \u001b[?25l\u001b[?25hdone\n",
            "  Getting requirements to build wheel ... \u001b[?25l\u001b[?25hdone\n",
            "  Preparing metadata (pyproject.toml) ... \u001b[?25l\u001b[?25hdone\n",
            "Requirement already satisfied: joblib>=0.11 in /usr/local/lib/python3.10/dist-packages (from scikit-optimize==0.9.0) (1.2.0)\n",
            "Collecting pyaml>=16.9 (from scikit-optimize==0.9.0)\n",
            "  Using cached pyaml-23.5.9-py3-none-any.whl (17 kB)\n",
            "Requirement already satisfied: numpy>=1.13.3 in /usr/local/lib/python3.10/dist-packages (from scikit-optimize==0.9.0) (1.22.4)\n",
            "Requirement already satisfied: scipy>=0.19.1 in /usr/local/lib/python3.10/dist-packages (from scikit-optimize==0.9.0) (1.10.1)\n",
            "Requirement already satisfied: scikit-learn>=0.20.0 in /usr/local/lib/python3.10/dist-packages (from scikit-optimize==0.9.0) (1.2.2)\n",
            "Requirement already satisfied: PyYAML in /usr/local/lib/python3.10/dist-packages (from pyaml>=16.9->scikit-optimize==0.9.0) (6.0)\n",
            "Requirement already satisfied: threadpoolctl>=2.0.0 in /usr/local/lib/python3.10/dist-packages (from scikit-learn>=0.20.0->scikit-optimize==0.9.0) (3.1.0)\n",
            "Building wheels for collected packages: scikit-optimize\n",
            "  Building wheel for scikit-optimize (pyproject.toml) ... \u001b[?25l\u001b[?25hdone\n",
            "  Created wheel for scikit-optimize: filename=scikit_optimize-0.9.0-py2.py3-none-any.whl size=100250 sha256=acd405926de84303a83296cece292755083787bf0270d12a18e59ff8f3fb0b37\n",
            "  Stored in directory: /tmp/pip-ephem-wheel-cache-mx6dh18b/wheels/2f/f0/ed/db529a96372d05bd34f6c3a2fa7c08ef7a8314315ac46e49d7\n",
            "Successfully built scikit-optimize\n",
            "Installing collected packages: pyaml, scikit-optimize\n",
            "Successfully installed pyaml-23.5.9 scikit-optimize-0.9.0\n"
          ]
        }
      ],
      "source": [
        "!pip install git+https://github.com/scikit-optimize/scikit-optimize.git"
      ]
    },
    {
      "cell_type": "code",
      "execution_count": null,
      "metadata": {
        "colab": {
          "background_save": true
        },
        "id": "LIOC7YQ8wmP8",
        "outputId": "f2dc0700-47e8-4444-a2e9-0d5e383ffff6"
      },
      "outputs": [
        {
          "name": "stdout",
          "output_type": "stream",
          "text": [
            "30 0.5049829991792707\n",
            "43 0.5269081955680619\n",
            "43 0.5006448587173173\n",
            "43 0.5348809942548951\n",
            "32 0.49701020049243755\n",
            "20 0.7048892015476609\n",
            "16 0.505569234376832\n",
            "5 0.8365576269199203\n",
            "15 0.5066244577324422\n",
            "25 0.32805721655528197\n",
            "4 0.5280806659631845\n",
            "5 0.8324539805369915\n",
            "5 0.8203775354672295\n",
            "5 0.6346582248798218\n",
            "5 0.820612029546254\n",
            "5 0.8362058858013836\n",
            "5 0.6391136123812874\n",
            "5 0.8230742173760113\n",
            "5 0.6357134482354321\n",
            "5 0.8230742173760113\n",
            "16.56619930267334\n",
            "Best score=0.8366\n",
            "Best parameters: n_clusters=5\n"
          ]
        }
      ],
      "source": [
        "from skopt.space import Real, Integer\n",
        "from skopt.utils import use_named_args\n",
        "from sklearn import metrics\n",
        "\n",
        "space  = [Integer(2, 50, name='n_clusters')]\n",
        "@use_named_args(space)\n",
        "def objective(**params):\n",
        "    km_cluster = MiniBatchKMeans(batch_size=100, **params)\n",
        "    n=params['n_clusters']\n",
        "    \n",
        "    result = km_cluster.fit_predict(X_train)\n",
        "    result2 = km_cluster.predict(X_test)\n",
        "\n",
        "    count=0\n",
        "    a=np.zeros(n)\n",
        "    b=np.zeros(n)\n",
        "    for v in range(0,n):\n",
        "        for i in range(0,len(y_train)):\n",
        "            if result[i]==v:\n",
        "                if y_train[i]==1:\n",
        "                    a[v]=a[v]+1\n",
        "                else:\n",
        "                    b[v]=b[v]+1\n",
        "    list1=[]\n",
        "    list2=[]\n",
        "    for v in range(0,n):\n",
        "        if a[v]<=b[v]:\n",
        "            list1.append(v)\n",
        "        else: \n",
        "            list2.append(v)\n",
        "    for v in range(0,len(y_test)):\n",
        "        if result2[v] in list1:\n",
        "            result2[v]=0\n",
        "        elif result2[v] in list2:\n",
        "            result2[v]=1\n",
        "        else:\n",
        "            print(\"-1\")\n",
        "    cm=metrics.accuracy_score(y_test,result2)\n",
        "    print(str(n)+\" \"+str(cm))\n",
        "    return (1-cm)\n",
        "from skopt import gp_minimize\n",
        "import time\n",
        "t1=time.time()\n",
        "res_gp = gp_minimize(objective, space, n_calls=20, random_state=0)\n",
        "t2=time.time()\n",
        "print(t2-t1)\n",
        "print(\"Best score=%.4f\" % (1-res_gp.fun))\n",
        "print(\"\"\"Best parameters: n_clusters=%d\"\"\" % (res_gp.x[0]))"
      ]
    },
    {
      "cell_type": "code",
      "execution_count": null,
      "metadata": {
        "colab": {
          "background_save": true
        },
        "id": "Tu9Dq7MAws69",
        "outputId": "b93f2ccb-0fad-467c-bfea-754d5b9cf799"
      },
      "outputs": [
        {
          "name": "stdout",
          "output_type": "stream",
          "text": [
            "5 0.8202602884277173\n",
            "20 0.6355962011959198\n",
            "12 0.4518700902802204\n",
            "20 0.7251729393832805\n",
            "4 0.822018994020401\n",
            "27 0.5111970922734201\n",
            "19 0.6452104584359245\n",
            "3 0.7073513893774183\n",
            "21 0.3110563958260054\n",
            "44 0.7040684722710752\n",
            "11 0.5022863172704889\n",
            "35 0.5032242935865869\n",
            "37 0.6557626919920272\n",
            "28 0.3100011724703951\n",
            "46 0.50650721069293\n",
            "2 0.8056044084886856\n",
            "30 0.7096963301676633\n",
            "24 0.7237659749091335\n",
            "23 0.5304256067534294\n",
            "37 0.416813225466057\n",
            "100%|██████████| 20/20 [00:18<00:00,  1.06trial/s, best loss: 0.17798100597959898]\n",
            "Random Forest: Hyperopt estimated optimum {'n_clusters': 4.0}\n"
          ]
        }
      ],
      "source": [
        "#Hyperparameter optimization by BO-TPE\n",
        "from hyperopt import hp, fmin, tpe, STATUS_OK, Trials\n",
        "from sklearn.model_selection import cross_val_score, StratifiedKFold\n",
        "from sklearn.cluster import MiniBatchKMeans\n",
        "from sklearn import metrics\n",
        "\n",
        "def objective(params):\n",
        "    params = {\n",
        "        'n_clusters': int(params['n_clusters']), \n",
        "    }\n",
        "    km_cluster = MiniBatchKMeans(batch_size=100, **params)\n",
        "    n=params['n_clusters']\n",
        "    \n",
        "    result = km_cluster.fit_predict(X_train)\n",
        "    result2 = km_cluster.predict(X_test)\n",
        "\n",
        "    count=0\n",
        "    a=np.zeros(n)\n",
        "    b=np.zeros(n)\n",
        "    for v in range(0,n):\n",
        "        for i in range(0,len(y_train)):\n",
        "            if result[i]==v:\n",
        "                if y_train[i]==1:\n",
        "                    a[v]=a[v]+1\n",
        "                else:\n",
        "                    b[v]=b[v]+1\n",
        "    list1=[]\n",
        "    list2=[]\n",
        "    for v in range(0,n):\n",
        "        if a[v]<=b[v]:\n",
        "            list1.append(v)\n",
        "        else: \n",
        "            list2.append(v)\n",
        "    for v in range(0,len(y_test)):\n",
        "        if result2[v] in list1:\n",
        "            result2[v]=0\n",
        "        elif result2[v] in list2:\n",
        "            result2[v]=1\n",
        "        else:\n",
        "            print(\"-1\")\n",
        "    score=metrics.accuracy_score(y_test,result2)\n",
        "    print(str(params['n_clusters'])+\" \"+str(score))\n",
        "    return {'loss':1-score, 'status': STATUS_OK }\n",
        "space = {\n",
        "    'n_clusters': hp.quniform('n_clusters', 2, 50, 1),\n",
        "}\n",
        "\n",
        "best = fmin(fn=objective,\n",
        "            space=space,\n",
        "            algo=tpe.suggest,\n",
        "            max_evals=20)\n",
        "print(\"Random Forest: Hyperopt estimated optimum {}\".format(best))"
      ]
    },
    {
      "cell_type": "code",
      "execution_count": null,
      "metadata": {
        "colab": {
          "background_save": true
        },
        "id": "iX3mXGdRw0aT",
        "outputId": "f10c4429-5e4c-4414-e855-e894f416623b"
      },
      "outputs": [
        {
          "name": "stdout",
          "output_type": "stream",
          "text": [
            "              precision    recall  f1-score   support\n",
            "\n",
            "           0       0.47      0.97      0.63      2733\n",
            "           1       0.97      0.48      0.65      5796\n",
            "\n",
            "    accuracy                           0.64      8529\n",
            "   macro avg       0.72      0.73      0.64      8529\n",
            "weighted avg       0.81      0.64      0.64      8529\n",
            "\n",
            "0.6408723179739712\n",
            "[[2657   76]\n",
            " [2987 2809]]\n"
          ]
        }
      ],
      "source": [
        "CL_kmeans(X_train, X_test, y_train, y_test, 5)"
      ]
    },
    {
      "cell_type": "code",
      "execution_count": null,
      "metadata": {
        "colab": {
          "background_save": true
        },
        "id": "GYfBX7_1w35o"
      },
      "outputs": [],
      "source": [
        "def Anomaly_IDS(X_train, X_test, y_train, y_test,n,b=100):\n",
        "    # CL-kmeans\n",
        "    km_cluster = MiniBatchKMeans(n_clusters=n,batch_size=b)\n",
        "    result = km_cluster.fit_predict(X_train)\n",
        "    result2 = km_cluster.predict(X_test)\n",
        "\n",
        "    count=0\n",
        "    a=np.zeros(n)\n",
        "    b=np.zeros(n)\n",
        "    for v in range(0,n):\n",
        "        for i in range(0,len(y_train)):\n",
        "            if result[i]==v:\n",
        "                if y_train[i]==1:\n",
        "                    a[v]=a[v]+1\n",
        "                else:\n",
        "                    b[v]=b[v]+1\n",
        "    list1=[]\n",
        "    list2=[]\n",
        "    for v in range(0,n):\n",
        "        if a[v]<=b[v]:\n",
        "            list1.append(v)\n",
        "        else: \n",
        "            list2.append(v)\n",
        "    for v in range(0,len(y_test)):\n",
        "        if result2[v] in list1:\n",
        "            result2[v]=0\n",
        "        elif result2[v] in list2:\n",
        "            result2[v]=1\n",
        "        else:\n",
        "            print(\"-1\")\n",
        "    # print(classification_report(y_test, result2))\n",
        "    cm=confusion_matrix(y_test,result2)\n",
        "    acc=metrics.accuracy_score(y_test,result2)\n",
        "    # print(str(acc))\n",
        "    # print(cm)\n",
        "    return result2\n",
        "\n",
        "    "
      ]
    },
    {
      "cell_type": "code",
      "execution_count": null,
      "metadata": {
        "colab": {
          "background_save": true
        },
        "id": "DJGkW2vR1brU"
      },
      "outputs": [],
      "source": [
        "new_input = X_test"
      ]
    },
    {
      "cell_type": "code",
      "execution_count": null,
      "metadata": {
        "id": "R_IKyDcIz0GN"
      },
      "outputs": [],
      "source": [
        "new_output = (Anomaly_IDS(X_train, X_test, y_train, y_test,10,b=100))"
      ]
    },
    {
      "cell_type": "code",
      "execution_count": null,
      "metadata": {
        "colab": {
          "background_save": true
        },
        "id": "eKKvBikxIL44",
        "outputId": "f8a04254-41e8-4bfb-9a09-bbc1f8c8b14d"
      },
      "outputs": [
        {
          "name": "stdout",
          "output_type": "stream",
          "text": [
            "BENIGN\n"
          ]
        }
      ],
      "source": [
        "new_output\n",
        "if new_output[1]==[0]:\n",
        "    print('BENIGN')\n",
        "elif new_output[1] == [1]:\n",
        "    print('DOS GOLDENEYE')\n",
        "elif new_output[1] == [2]:\n",
        "    print('DOS HULK')\n",
        "elif new_output[1] == [3]:\n",
        "    print('DOS SLOWHTTPTEST')\n",
        "else:\n",
        "    print('DOS SLOWLORIS')"
      ]
    },
    {
      "cell_type": "code",
      "execution_count": null,
      "metadata": {
        "colab": {
          "background_save": true
        },
        "id": "GGAPWdL77jMU"
      },
      "outputs": [],
      "source": [
        "new_output1 = stk.predict(new_input)"
      ]
    },
    {
      "cell_type": "code",
      "execution_count": null,
      "metadata": {
        "id": "BnnQx8h-5uBD"
      },
      "outputs": [],
      "source": [
        "new_output\n",
        "if new_output[0]==[0]:\n",
        "    print('Normal')\n",
        "elif new_output[0] == [1]:\n",
        "    print('Unknown attack')"
      ]
    }
  ],
  "metadata": {
    "colab": {
      "provenance": [],
      "include_colab_link": true
    },
    "kernelspec": {
      "display_name": "Python 3",
      "name": "python3"
    },
    "language_info": {
      "name": "python"
    }
  },
  "nbformat": 4,
  "nbformat_minor": 0
}